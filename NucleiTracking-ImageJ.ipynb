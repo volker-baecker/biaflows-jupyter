{
 "cells": [
  {
   "cell_type": "markdown",
   "metadata": {},
   "source": [
    "# BIAFlows\n",
    "\n",
    "## Nuclei Tracking 2D+t\n",
    "\n",
    "### Fiji-workflow\n",
    "\n",
    "The workflow treats the time-dimension as z-dimension and does a 3D-segmentation of the objects. The resulting object slices are then reduced to a center point."
   ]
  },
  {
   "cell_type": "markdown",
   "metadata": {},
   "source": [
    "#### Initialize the cytomine client and job\n",
    "\n",
    "The cytomine client needs some parameters to connect to the server. The host on which the server is running, the public and private keys to make a connection, the id of the project and the id of the software.\n",
    "The remaining 3 parameters will be passed on to the image analysis workflow."
   ]
  },
  {
   "cell_type": "code",
   "execution_count": null,
   "metadata": {},
   "outputs": [],
   "source": [
    "from getpass import getpass \n",
    "\n",
    "publicKey = getpass(\"Please enter the public key: \")\n",
    "privateKey = getpass(\"Please enter the private key: \")\n",
    "\n",
    "argv = ['--cytomine_public_key', publicKey, \n",
    " '--cytomine_host',  'neubias.cytomine.be',\n",
    " '--cytomine_private_key',  privateKey,\n",
    " '--cytomine_id_project',  '1695226', \n",
    " '--cytomine_id_software', '3804897',\n",
    " '--ij_gauss_radius',  '3',\n",
    " '--ij_threshold',  '60',\n",
    " '--ij_open_radius', '7']"
   ]
  },
  {
   "cell_type": "markdown",
   "metadata": {},
   "source": [
    "Import CytomineJob and Job and update the status information."
   ]
  },
  {
   "cell_type": "code",
   "execution_count": null,
   "metadata": {},
   "outputs": [],
   "source": [
    "from cytomine import CytomineJob\n",
    "from cytomine.models import Job\n",
    "from beakerx.object import beakerx\n",
    "jobID=-666\n",
    "with CytomineJob.from_cli(argv) as cj:\n",
    "        cj.job.update(status=Job.RUNNING, progress=0, statusComment=\"Initialisation...\")\n",
    "        jobID = cj.job.id\n",
    "        beakerx.ij_gauss_radius = cj.parameters.ij_gauss_radius\n",
    "        beakerx.ij_threshold = cj.parameters.ij_threshold\n",
    "        beakerx.ij_open_radius = cj.parameters.ij_open_radius"
   ]
  },
  {
   "cell_type": "markdown",
   "metadata": {},
   "source": [
    "#### Create local directories\n",
    "\n",
    "Create the local working directories in a subfolder jobID of the user's home folder.\n",
    "\n",
    "- in: input images\n",
    "- out: output images\n",
    "- ground_truth: ground truth images\n",
    "- tmp: temporary path"
   ]
  },
  {
   "cell_type": "code",
   "execution_count": null,
   "metadata": {},
   "outputs": [],
   "source": [
    "import os\n",
    "from beakerx.object import beakerx\n",
    "base_path = \"{}\".format(os.getenv(\"HOME\"))\n",
    "gt_suffix = \"_lbl\"\n",
    "working_path = os.path.join(base_path, str(jobID))\n",
    "in_path = os.path.join(working_path, \"in\")\n",
    "out_path = os.path.join(working_path, \"out\")\n",
    "gt_path = os.path.join(working_path, \"ground_truth\")\n",
    "tmp_path = os.path.join(working_path, \"tmp\")\n",
    "\n",
    "if not os.path.exists(working_path):\n",
    "    os.makedirs(working_path)\n",
    "    os.makedirs(in_path)\n",
    "    os.makedirs(out_path)\n",
    "    os.makedirs(gt_path)\n",
    "    os.makedirs(tmp_path)\n",
    "\n",
    "beakerx.in_path = in_path\n",
    "beakerx.out_path = out_path"
   ]
  },
  {
   "cell_type": "markdown",
   "metadata": {},
   "source": [
    "#### Download the images"
   ]
  },
  {
   "cell_type": "code",
   "execution_count": null,
   "metadata": {},
   "outputs": [],
   "source": [
    "from cytomine.models import ImageGroupCollection\n",
    "cj.job.update(progress=10, statusComment=\"Downloading images (to {})...\".format(in_path))\n",
    "image_group = ImageGroupCollection().fetch_with_filter(\"project\", cj.parameters.cytomine_id_project)\n",
    "\n",
    "input_images = [i for i in image_group if gt_suffix not in i.name]\n",
    "gt_images = [i for i in image_group if gt_suffix in i.name]\n",
    "\n",
    "for input_image in input_images:\n",
    "    input_image.download(os.path.join(in_path, \"{id}.tif\"))\n",
    "\n",
    "for gt_image in gt_images:\n",
    "    related_name = gt_image.name.replace(gt_suffix, '')\n",
    "    related_image = [i for i in input_images if related_name == i.name]\n",
    "    if len(related_image) == 1:\n",
    "        gt_image.download(os.path.join(gt_path, \"{}.tif\".format(related_image[0].id)))"
   ]
  },
  {
   "cell_type": "markdown",
   "metadata": {},
   "source": [
    "#### Call the image analysis workflow "
   ]
  },
  {
   "cell_type": "code",
   "execution_count": null,
   "metadata": {},
   "outputs": [],
   "source": [
    "from subprocess import call\n",
    "\n",
    "cj.job.update(progress=25, statusComment=\"Launching workflow...\")\n",
    "command = \"/usr/bin/xvfb-run ./ImageJ-linux64 -macro NucleiTracking.ijm \" \\\n",
    "\t\t\"\\\"input={}, output={}, gauss_rad={}, threshold={}, open_rad={}\\\" -batch\".format(in_path, out_path, cj.parameters.ij_gauss_radius, cj.parameters.ij_threshold, cj.parameters.ij_open_radius)\n",
    "\n",
    "return_code = call(command, shell=True, cwd=\"./Fiji.app\")  # waits for the subprocess to return\n",
    "\n",
    "if return_code != 0:\n",
    "    err_desc = \"Failed to execute the ImageJ macro (return code: {})\".format(return_code)\n",
    "    cj.job.update(progress=50, statusComment=err_desc)\n",
    "    raise ValueError(err_desc)\n",
    "cj.job.update(progress=30, statusComment=\"Workflow finished...\")\n"
   ]
  },
  {
   "cell_type": "markdown",
   "metadata": {},
   "source": [
    "#### Create and upload annotations"
   ]
  },
  {
   "cell_type": "code",
   "execution_count": null,
   "metadata": {
    "scrolled": true
   },
   "outputs": [],
   "source": [
    "from neubiaswg5.exporter.mask_to_points import mask_to_points_3d\n",
    "import io\n",
    "from skimage import io\n",
    "from cytomine.models import Annotation,AnnotationCollection, ImageGroupCollection, ImageInstance, ImageSequenceCollection\n",
    "from itertools import groupby\n",
    "from shapely.geometry import LineString, Point\n",
    "from shapely.affinity import affine_transform\n",
    "import numpy as np\n",
    "   \n",
    "for image in cj.monitor(input_images, start=60, end=80, period=0.1, prefix=\"Extracting and uploading tracks from point-masks\"):\n",
    "    file = \"{}.tif\".format(image.id)\n",
    "    path = os.path.join(out_path, file)\n",
    "    data = io.imread(path)\n",
    "\n",
    "    # extract objects\n",
    "    objects = mask_to_points_3d(data, time=True)\n",
    "\n",
    "    objects = sorted(objects, key=lambda annotationSlice: annotationSlice.time)    \n",
    "    objects = sorted(objects, key=lambda annotationSlice: annotationSlice.label)    \n",
    "    grouped = groupby(objects,  key=lambda annotationSlice: annotationSlice.label)\n",
    "    \n",
    "    image_sequences = ImageSequenceCollection().fetch_with_filter(\"imagegroup\", image.id)\n",
    "    \n",
    "    depth_to_image = {iseq.time: iseq.image for iseq in image_sequences}\n",
    "    height = ImageInstance().fetch(image_sequences[0].image).height\n",
    "    \n",
    "    collection = AnnotationCollection()\n",
    "    \n",
    "    groups = []\n",
    "    uniquekeys = []\n",
    "    for k, g in grouped:\n",
    "        groups.append(list(g))      # Store group iterator as a list\n",
    "        uniquekeys.append(k)\n",
    "    \n",
    "    for key, group in zip(uniquekeys, groups):\n",
    "        listOfPoints = []\n",
    "        for oSlice in group:\n",
    "            listOfPoints.append((oSlice.polygon.x, oSlice.polygon.y))\n",
    "        shape = Point(listOfPoints[0])\n",
    "#       shape = LineString(listOfPoints)\n",
    "        for oSlice2 in group:\n",
    "            polygon = affine_transform(shape, [1, 0, 0, -1, 0, height])\n",
    "            annotation = Annotation(location=polygon.wkt, id_image=depth_to_image[oSlice2.time], id_project=cj.parameters.cytomine_id_project, property=[{\"key\": \"index\", \"value\": str(oSlice2.label)}])\n",
    "            collection.append(annotation)\n",
    "        \n",
    "    collection.save()\n",
    "    print(\"Found {} objects in this image {}.\".format(len(objects), image.id))\n",
    "    \n",
    "    "
   ]
  },
  {
   "cell_type": "markdown",
   "metadata": {},
   "source": [
    "#### Calculate and upload metrics"
   ]
  },
  {
   "cell_type": "code",
   "execution_count": null,
   "metadata": {},
   "outputs": [],
   "source": [
    "from neubiaswg5.metrics import computemetrics_batch\n",
    "from cytomine.models import Property\n",
    "\n",
    "cj.job.update(progress=80, statusComment=\"Computing and uploading metrics...\")\n",
    "outfiles, reffiles = zip(*[\n",
    "    (os.path.join(out_path, \"{}.tif\".format(image.id)),\n",
    "     os.path.join(gt_path, \"{}.tif\".format(image.id)))\n",
    "    for image in input_images\n",
    "])\n",
    "\n",
    "results = computemetrics_batch(outfiles, reffiles, \"PrtTrk\", tmp_path)\n",
    "\n",
    "for key, value in results.items():\n",
    "    Property(cj.job, key=key, value=str(value)).save()\n",
    "Property(cj.job, key=\"IMAGE_INSTANCES\", value=str([im.id for im in input_images])).save()"
   ]
  },
  {
   "cell_type": "markdown",
   "metadata": {},
   "source": [
    "#### Cleanup - remove the files and folders that have been downloaded or created."
   ]
  },
  {
   "cell_type": "code",
   "execution_count": null,
   "metadata": {},
   "outputs": [],
   "source": [
    "for image in input_images:\n",
    "    file = str(image.id)\n",
    "    path = out_path + \"/\" + file + \".tif\"\n",
    "    os.remove(path);\n",
    "    path = in_path + \"/\" + file  + \".tif\"\n",
    "    os.remove(path);\n",
    "    path = gt_path + \"/\" + file  + \".tif\"\n",
    "    os.remove(path);\n",
    "    \n",
    "tmpData = ['intracks.xml', 'intracks.xml.score.txt', 'reftracks.xml']\n",
    "for file in tmpData:\n",
    "    path = tmp_path + \"/\" + file\n",
    "    os.remove(path);\n",
    "if os.path.exists(working_path):\n",
    "    os.rmdir(in_path)\n",
    "    os.rmdir(out_path)\n",
    "    os.rmdir(gt_path)\n",
    "    os.rmdir(tmp_path)\n",
    "    os.rmdir(working_path)"
   ]
  },
  {
   "cell_type": "markdown",
   "metadata": {},
   "source": [
    "#### End the job and the connection to cytomine"
   ]
  },
  {
   "cell_type": "code",
   "execution_count": null,
   "metadata": {},
   "outputs": [],
   "source": [
    "cj.job.update(status=Job.TERMINATED, progress=100, statusComment=\"Finished.\")\n",
    "print(\"END.\")"
   ]
  }
 ],
 "metadata": {
  "celltoolbar": "Initialization Cell",
  "kernelspec": {
   "display_name": "Python 3",
   "language": "python",
   "name": "python3"
  },
  "language_info": {
   "codemirror_mode": {
    "name": "ipython",
    "version": 3
   },
   "file_extension": ".py",
   "mimetype": "text/x-python",
   "name": "python",
   "nbconvert_exporter": "python",
   "pygments_lexer": "ipython3",
   "version": "3.6.6"
  },
  "toc": {
   "base_numbering": 1,
   "nav_menu": {},
   "number_sections": false,
   "sideBar": false,
   "skip_h1_title": false,
   "title_cell": "Table of Contents",
   "title_sidebar": "Contents",
   "toc_cell": false,
   "toc_position": {},
   "toc_section_display": false,
   "toc_window_display": false
  }
 },
 "nbformat": 4,
 "nbformat_minor": 2
}
