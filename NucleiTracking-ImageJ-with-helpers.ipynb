{
 "cells": [
  {
   "cell_type": "markdown",
   "metadata": {},
   "source": [
    "# BIAFlows\n",
    "\n",
    "## Nuclei Tracking 2D+t\n",
    "\n",
    "### Fiji-workflow\n",
    "\n",
    "The workflow treats the time-dimension as z-dimension and does a 3D-segmentation of the objects. The resulting object slices are then reduced to a center point."
   ]
  },
  {
   "cell_type": "markdown",
   "metadata": {},
   "source": [
    "#### Initialize the cytomine client and job\n",
    "\n",
    "The cytomine client needs some parameters to connect to the server. The host on which the server is running, the public and private keys to make a connection, the id of the project and the id of the software.\n",
    "The remaining 3 parameters will be passed on to the image analysis workflow."
   ]
  },
  {
   "cell_type": "code",
   "execution_count": 1,
   "metadata": {},
   "outputs": [
    {
     "name": "stdout",
     "output_type": "stream",
     "text": [
      "Please enter the public key: ········\n",
      "Please enter the private key: ········\n"
     ]
    }
   ],
   "source": [
    "from getpass import getpass \n",
    "\n",
    "publicKey = getpass(\"Please enter the public key: \")\n",
    "privateKey = getpass(\"Please enter the private key: \")\n",
    "\n",
    "argv = ['--cytomine_public_key', publicKey, \n",
    " '--cytomine_host',  'neubias.cytomine.be',\n",
    " '--cytomine_private_key',  privateKey,\n",
    " '--cytomine_id_project',  '1695226', \n",
    " '--cytomine_id_software', '3804897',\n",
    " '--ij_gauss_radius',  '3',\n",
    " '--ij_threshold',  '60',\n",
    " '--ij_open_radius', '7']"
   ]
  },
  {
   "cell_type": "markdown",
   "metadata": {},
   "source": [
    "Import CytomineJob and Job and update the status information. Set the problem class to particle-tracking (PrtTrk)."
   ]
  },
  {
   "cell_type": "code",
   "execution_count": 2,
   "metadata": {},
   "outputs": [
    {
     "name": "stdout",
     "output_type": "stream",
     "text": [
      "[2019-01-23 17:39:45,632][INFO] [GET] [currentuser] CURRENT USER - 5739 : neubias | 200 OK\n",
      "[2019-01-23 17:39:45,687][INFO] [GET] [project] 1695226 : NEUBIAS-BENCHMARK-NUCLEI-TRACKING-NODIVISION | 200 OK\n",
      "[2019-01-23 17:39:45,740][INFO] [GET] [software] 3804897 : NucleiTracking-ImageJ | 200 OK\n",
      "[2019-01-23 17:39:45,789][INFO] [GET] [softwareparameter collection] 8 objects | 200 OK\n",
      "[2019-01-23 17:39:46,243][INFO] [POST] [job] 5850435 : None | 200 OK\n",
      "[2019-01-23 17:39:46,302][INFO] [GET] [user] 5850441 : JOB[neubias ], 2019-01-23 16:39:45:949 | 200 OK\n",
      "[2019-01-23 17:39:46,362][INFO] [GET] [currentuser] CURRENT USER - 5850441 : JOB[neubias ], 2019-01-23 16:39:45:949 | 200 OK\n",
      "[2019-01-23 17:39:46,364][INFO] Job (id:5850435) status update: \"None\" (status: RUNNING, progress: 0%)\n",
      "[2019-01-23 17:39:46,457][INFO] [PUT] [job] 5850435 : None | 200 OK\n",
      "[2019-01-23 17:39:46,531][INFO] [POST] [jobparameter] 5850451 : ij_gauss_radius | 200 OK\n",
      "[2019-01-23 17:39:46,606][INFO] [POST] [jobparameter] 5850457 : ij_threshold | 200 OK\n",
      "[2019-01-23 17:39:46,680][INFO] [POST] [jobparameter] 5850463 : ij_open_radius | 200 OK\n",
      "[2019-01-23 17:39:46,681][INFO] Job (id:5850435) status update: \"Initialisation...\" (status: RUNNING, progress: 0%)\n",
      "[2019-01-23 17:39:46,755][INFO] [PUT] [job] 5850435 : None | 200 OK\n",
      "[2019-01-23 17:39:46,756][INFO] Job (id:5850435) status update: \"Job successfully terminated\" (status: SUCCESS/TERMINATED, progress: 0%)\n",
      "[2019-01-23 17:39:46,830][INFO] [PUT] [job] 5850435 : None | 200 OK\n"
     ]
    }
   ],
   "source": [
    "import sys\n",
    "from subprocess import call\n",
    "\n",
    "from cytomine.models import Job\n",
    "\n",
    "from neubiaswg5 import CLASS_PRTTRK\n",
    "from neubiaswg5.helpers import NeubiasJob, prepare_data, upload_data, upload_metrics\n",
    "\n",
    "jobID=-666\n",
    "with NeubiasJob.from_cli(argv) as nj:\n",
    "    nj.job.update(status=Job.RUNNING, progress=0, statusComment=\"Initialisation...\")\n",
    "    jobID = nj.job.id\n",
    "    \n",
    "problem_cls = CLASS_PRTTRK"
   ]
  },
  {
   "cell_type": "markdown",
   "metadata": {},
   "source": [
    "#### Create local directories and download images\n",
    "\n",
    "Create the local working directories in a subfolder jobID of the user's home folder.\n",
    "\n",
    "- in: input images\n",
    "- out: output images\n",
    "- ground_truth: ground truth images\n",
    "- tmp: temporary path"
   ]
  },
  {
   "cell_type": "code",
   "execution_count": 4,
   "metadata": {},
   "outputs": [
    {
     "name": "stdout",
     "output_type": "stream",
     "text": [
      "[2019-01-23 17:40:00,948][INFO] Job (id:5850435) status update: \"Downloading images (to /home/baecker/5850435/in)...\" (status: SUCCESS/TERMINATED, progress: 25%)\n",
      "[2019-01-23 17:40:01,113][INFO] [PUT] [job] 5850435 : None | 200 OK\n",
      "[2019-01-23 17:40:01,176][INFO] [GET] [imagegroup collection] 2 objects | 200 OK\n",
      "[2019-01-23 17:40:01,645][INFO] File downloaded successfully from http://neubias.cytomine.be/api/imagegroup/4042304/download\n",
      "[2019-01-23 17:40:02,031][INFO] File downloaded successfully from http://neubias.cytomine.be/api/imagegroup/4042708/download\n"
     ]
    }
   ],
   "source": [
    "in_images, gt_images, in_path, gt_path, out_path, tmp_path = prepare_data(problem_cls, nj, is_2d=False, **nj.flags)"
   ]
  },
  {
   "cell_type": "markdown",
   "metadata": {},
   "source": [
    "#### Call the image analysis workflow "
   ]
  },
  {
   "cell_type": "code",
   "execution_count": 5,
   "metadata": {},
   "outputs": [
    {
     "name": "stdout",
     "output_type": "stream",
     "text": [
      "[2019-01-23 17:40:04,640][INFO] Job (id:5850435) status update: \"Launching workflow...\" (status: SUCCESS/TERMINATED, progress: 1%)\n",
      "[2019-01-23 17:40:04,787][INFO] [PUT] [job] 5850435 : None | 200 OK\n",
      "[2019-01-23 17:40:12,500][INFO] Job (id:5850435) status update: \"Workflow finished...\" (status: SUCCESS/TERMINATED, progress: 25%)\n",
      "[2019-01-23 17:40:12,661][INFO] [PUT] [job] 5850435 : None | 200 OK\n"
     ]
    },
    {
     "data": {
      "text/plain": [
       "<cytomine.models.software.Job at 0x7f090d1b61d0>"
      ]
     },
     "execution_count": 5,
     "metadata": {},
     "output_type": "execute_result"
    }
   ],
   "source": [
    "from subprocess import call\n",
    "\n",
    "nj.job.update(progress=25, statusComment=\"Launching workflow...\")\n",
    "command = \"/usr/bin/xvfb-run ./ImageJ-linux64 -macro NucleiTracking.ijm \" \\\n",
    "\t\t\"\\\"input={}, output={}, gauss_rad={}, threshold={}, open_rad={}\\\" -batch\".format(in_path, out_path, nj.parameters.ij_gauss_radius, nj.parameters.ij_threshold, nj.parameters.ij_open_radius)\n",
    "\n",
    "return_code = call(command, shell=True, cwd=\"./Fiji.app\")  # waits for the subprocess to return\n",
    "\n",
    "if return_code != 0:\n",
    "    err_desc = \"Failed to execute the ImageJ macro (return code: {})\".format(return_code)\n",
    "    nj.job.update(progress=50, statusComment=err_desc)\n",
    "    raise ValueError(err_desc)\n",
    "nj.job.update(progress=30, statusComment=\"Workflow finished...\")\n"
   ]
  },
  {
   "cell_type": "markdown",
   "metadata": {},
   "source": [
    "#### Create and upload annotations"
   ]
  },
  {
   "cell_type": "code",
   "execution_count": 6,
   "metadata": {
    "scrolled": true
   },
   "outputs": [
    {
     "name": "stdout",
     "output_type": "stream",
     "text": [
      "[2019-01-23 17:40:20,291][INFO] Job (id:5850435) status update: \"Extracting and uploading tracks from point-masks (1/1).\" (status: RUNNING, progress: 30%)\n",
      "[2019-01-23 17:40:24,250][INFO] [PUT] [job] 5850435 : None | 200 OK\n",
      "[2019-01-23 17:40:24,402][INFO] [GET] [imagesequence collection] 10 objects | 200 OK\n",
      "[2019-01-23 17:40:24,460][INFO] [GET] [imageinstance] 4041830 : /1539945624298/ShortMovie.ome_Z0_C0_T5.tiff | 200 OK\n",
      "[2019-01-23 17:40:31,404][INFO] [POST] algoannotations 5850549,5850563,5850577,5850591,5850605,5850619,5850633,5850647,5850661,5850675,5850689,5850702,5850715,5850730,5850743,5850756,5850769,5850782,5850795,5850808,5850821,5850834,5850847,5850860,5850873,5850886,5850899,5850912,5850925,5850938,5850951,5850964,5850977,5850990,5851003,5851016,5851029,5851042,5851055,5851068,5851081,5851094,5851107,5851120,5851133,5851146,5851159,5851172,5851185,5851198,5851211,5851224,5851237,5851250,5851263,5851276,5851289,5851302,5851315,5851328,5851341,5851354,5851367,5851380,5851393,5851406,5851419,5851432,5851445,5851458,5851471,5851484,5851497,5851510,5851523,5851536,5851549,5851562,5851575,5851588,5851601,5851616,5851629,5851642,5851655,5851668,5851681,5851694,5851707,5851720,5851733,5851746,5851759,5851772,5851785,5851800,5851813,5851826,5851839,5851852 added | 200 OK\n",
      "[2019-01-23 17:40:39,590][INFO] [POST] algoannotations 5851865,5851878,5851891,5851904,5851917,5851930,5851943,5851956,5851969,5851982,5851995,5852008,5852021,5852034,5852047,5852060,5852073,5852086,5852099,5852112,5852125,5852138,5852151,5852164,5852177,5852190,5852203,5852216,5852229,5852242,5852255,5852268,5852281,5852294,5852307,5852320,5852333,5852350,5852363,5852376,5852389,5852402,5852415,5852428,5852441,5852454,5852467,5852482,5852495,5852508,5852521,5852534,5852547,5852560,5852573,5852586,5852599,5852612,5852625,5852638,5852651,5852664,5852677,5852690,5852703,5852716,5852729,5852742,5852755,5852768,5852781,5852794,5852807,5852820,5852833,5852846,5852859,5852872,5852885,5852898,5852911,5852924,5852937,5852950,5852963,5852976,5852989,5853002,5853015,5853028,5853041,5853054,5853067,5853080,5853093,5853106,5853119,5853132,5853145,5853158 added | 200 OK\n",
      "[2019-01-23 17:40:46,002][INFO] [POST] algoannotations 5853171,5853184,5853197,5853210,5853223,5853240,5853253,5853266,5853279,5853292,5853305,5853318,5853331,5853344,5853357,5853370,5853383,5853396,5853409,5853422,5853435,5853450,5853463,5853476,5853489,5853502,5853515,5853528,5853541,5853554,5853567,5853580,5853593,5853606,5853619,5853632,5853645,5853658,5853671,5853684,5853697,5853710,5853723,5853736,5853749,5853762,5853775,5853788,5853801,5853814,5853827,5853840,5853853,5853866,5853879,5853892,5853905,5853918,5853931,5853944,5853957,5853970,5853983,5853996,5854009,5854022,5854035,5854048,5854061,5854074,5854087,5854100,5854113,5854126,5854139,5854152,5854165,5854178,5854191,5854204,5854217,5854230,5854243,5854256,5854269,5854286,5854299,5854312,5854325,5854338,5854351,5854364,5854377,5854390,5854403,5854416,5854429,5854442,5854455,5854468 added | 200 OK\n",
      "[2019-01-23 17:40:52,324][INFO] [POST] algoannotations 5854483,5854496,5854509,5854522,5854535,5854548,5854561,5854574,5854587,5854600,5854613,5854626,5854639,5854652,5854665,5854678,5854691,5854704,5854717,5854730,5854743,5854756,5854769,5854782,5854795,5854808,5854821,5854834,5854847,5854860,5854873,5854886,5854899,5854912,5854925,5854938,5854951,5854964,5854977,5854990,5855003,5855016,5855029,5855042,5855055,5855068,5855081,5855094,5855107,5855120,5855133,5855146,5855159,5855172,5855185,5855198,5855211,5855224,5855237,5855250,5855263,5855276,5855289,5855302,5855315,5855332,5855345,5855358,5855371,5855384,5855397,5855410,5855423,5855436,5855449,5855462,5855475,5855488,5855501,5855514,5855527,5855540,5855555,5855568,5855581,5855594,5855607,5855620,5855633,5855646,5855659,5855672,5855685,5855698,5855711,5855724,5855737,5855750,5855763,5855776 added | 200 OK\n",
      "[2019-01-23 17:40:58,362][INFO] [POST] algoannotations 5855789,5855802,5855815,5855828,5855841,5855854,5855867,5855880,5855893,5855906,5855919,5855932,5855945,5855958,5855971,5855984,5855997,5856010,5856023,5856036,5856049,5856062,5856075,5856088,5856101,5856114,5856127,5856140,5856153,5856166,5856179,5856192,5856205,5856218,5856231,5856244,5856257,5856270,5856283,5856296,5856309,5856322,5856335,5856348,5856361,5856374,5856387,5856404,5856417,5856430,5856443,5856456,5856469,5856482,5856495,5856508,5856521,5856534,5856547,5856560,5856573,5856586,5856599,5856612,5856625,5856639,5856653,5856666,5856679,5856692,5856705,5856718,5856731,5856744,5856757,5856770,5856783,5856796,5856809,5856822,5856835,5856848,5856861,5856874,5856887,5856900,5856913,5856926,5856939,5856952,5856965,5856978,5856991,5857004,5857017,5857030,5857043,5857056,5857069,5857082 added | 200 OK\n",
      "[2019-01-23 17:41:04,147][INFO] [POST] algoannotations 5857095,5857108,5857121,5857134,5857147,5857160,5857173,5857186,5857199,5857212,5857225,5857238,5857251,5857264,5857277,5857290,5857303,5857316,5857329,5857342,5857355,5857368,5857381,5857394,5857407,5857420,5857433,5857446,5857459,5857476,5857489,5857502,5857515,5857528,5857541,5857554,5857567,5857580,5857593,5857606,5857619,5857632,5857645,5857658,5857671,5857684,5857697,5857710,5857723,5857738,5857751,5857764,5857777,5857790,5857803,5857816,5857829,5857842,5857855,5857868,5857881,5857894,5857907,5857920,5857933,5857946,5857959,5857972,5857985,5857998,5858011,5858024,5858037,5858050,5858063,5858076,5858089,5858102,5858115,5858128,5858141,5858154,5858167,5858180,5858193,5858206,5858219,5858232,5858245,5858258,5858271,5858284,5858297,5858310,5858323,5858336,5858349,5858362,5858375,5858388 added | 200 OK\n",
      "[2019-01-23 17:41:10,102][INFO] [POST] algoannotations 5858401,5858414,5858427,5858440,5858453,5858466,5858479,5858492,5858505,5858518,5858531,5858544,5858557,5858570,5858583,5858596,5858613,5858626,5858639,5858652,5858665,5858678,5858691,5858704,5858717,5858730,5858743,5858756,5858769,5858782,5858795,5858808,5858821,5858834,5858849,5858862,5858875,5858888,5858901,5858914,5858927,5858940,5858953,5858966,5858979,5858992,5859005,5859018,5859031,5859044,5859057,5859070,5859083,5859096,5859109,5859122,5859135,5859148,5859161,5859174,5859187,5859200,5859213,5859226,5859239,5859252,5859265,5859278,5859291,5859304,5859317,5859330,5859343,5859356,5859369,5859382,5859395,5859408,5859421,5859434,5859447,5859460,5859473,5859486,5859499,5859512,5859525,5859538,5859551,5859564,5859577,5859590,5859603,5859616,5859629,5859642,5859655,5859668,5859681,5859698 added | 200 OK\n",
      "[2019-01-23 17:41:16,237][INFO] [POST] algoannotations 5859711,5859724,5859737,5859750,5859763,5859776,5859789,5859802,5859815,5859828,5859841,5859854,5859867,5859881,5859895,5859908,5859921,5859934,5859947,5859960,5859973,5859986,5859999,5860012,5860025,5860038,5860051,5860064,5860077,5860090,5860103,5860116,5860129,5860142,5860155,5860168,5860181,5860194,5860207,5860220,5860233,5860246,5860259,5860272,5860285,5860298,5860311,5860324,5860337,5860350,5860363,5860376,5860389,5860402,5860415,5860428,5860441,5860454,5860467,5860480,5860493,5860506,5860519,5860532,5860545,5860558,5860571,5860584,5860597,5860610,5860623,5860636,5860649,5860662,5860675,5860688,5860701,5860714,5860727,5860740,5860757,5860770,5860783,5860796,5860809,5860822,5860835,5860848,5860861,5860874,5860887,5860900,5860913,5860926,5860939,5860952,5860965,5860980,5860993,5861006 added | 200 OK\n",
      "[2019-01-23 17:41:22,389][INFO] [POST] algoannotations 5861019,5861032,5861045,5861058,5861071,5861084,5861097,5861110,5861123,5861136,5861149,5861162,5861175,5861188,5861201,5861214,5861227,5861240,5861253,5861266,5861279,5861292,5861305,5861318,5861331,5861344,5861357,5861370,5861383,5861396,5861409,5861422,5861435,5861448,5861461,5861474,5861487,5861500,5861513,5861526,5861539,5861552,5861565,5861578,5861591,5861604,5861617,5861630,5861643,5861656,5861669,5861682,5861695,5861708,5861721,5861734,5861747,5861760,5861773,5861786,5861799,5861816,5861829,5861842,5861855,5861868,5861881,5861894,5861907,5861920,5861933,5861946,5861959,5861972,5861985,5861998,5862011,5862026,5862039,5862052,5862065,5862078,5862091,5862104,5862117,5862130,5862143,5862156,5862169,5862182,5862195,5862208,5862221,5862234,5862247,5862260,5862273,5862286,5862299,5862312 added | 200 OK\n"
     ]
    },
    {
     "name": "stdout",
     "output_type": "stream",
     "text": [
      "[2019-01-23 17:41:28,551][INFO] [POST] algoannotations 5862325,5862338,5862351,5862364,5862377,5862390,5862403,5862416,5862429,5862442,5862455,5862468,5862481,5862494,5862507,5862520,5862533,5862546,5862559,5862572,5862585,5862598,5862611,5862624,5862637,5862650,5862663,5862676,5862689,5862702,5862715,5862728,5862741,5862754,5862767,5862780,5862793,5862806,5862819,5862832,5862845,5862858,5862871,5862888,5862901,5862914,5862927,5862940,5862953,5862966,5862979,5862992,5863005,5863018,5863031,5863044,5863057,5863070,5863083,5863096,5863111,5863124,5863137,5863150,5863163,5863176,5863189,5863202,5863215,5863228,5863241,5863254,5863267,5863280,5863293,5863306,5863319,5863332,5863345,5863358,5863371,5863384,5863397,5863410,5863423,5863436,5863449,5863462,5863475,5863488,5863501,5863514,5863527,5863540,5863553,5863566,5863579,5863592,5863605,5863618 added | 200 OK\n",
      "[2019-01-23 17:41:35,738][INFO] [POST] algoannotations 5863631,5863644,5863657,5863670,5863683,5863696,5863709,5863722,5863735,5863748,5863761,5863774,5863787,5863800,5863813,5863826,5863839,5863852,5863865,5863878,5863891,5863904,5863917,5863930,5863947,5863960,5863973,5863986,5863999,5864012,5864025,5864038,5864051,5864064,5864077,5864090,5864103,5864116,5864129,5864142,5864155,5864168,5864183,5864196,5864209,5864222,5864235,5864248,5864261,5864274,5864287,5864300,5864313,5864326,5864339,5864352,5864365,5864378,5864391,5864404,5864417,5864430,5864443,5864456,5864469,5864482,5864495,5864508,5864521,5864534,5864547,5864560,5864573,5864586,5864599,5864612,5864625,5864638,5864651,5864664,5864677,5864690,5864703,5864716,5864729,5864742,5864755,5864768,5864781,5864798,5864811,5864824,5864837,5864850,5864863,5864876,5864889,5864902,5864915,5864928 added | 200 OK\n",
      "[2019-01-23 17:41:41,930][INFO] [POST] algoannotations 5864941,5864954,5864967,5864982,5864995,5865008,5865021,5865034,5865047,5865060,5865073,5865086,5865099,5865112,5865125,5865138,5865151,5865164,5865177,5865190,5865203,5865216,5865229,5865242,5865255,5865268,5865281,5865294,5865307,5865320,5865333,5865346,5865359,5865372,5865385,5865398,5865411,5865424,5865437,5865450,5865463,5865476,5865489,5865502,5865515,5865528,5865541,5865554,5865567,5865580,5865593,5865606,5865619,5865632,5865645,5865658,5865671,5865684,5865697,5865710,5865723,5865736,5865749,5865762,5865775,5865788,5865801,5865814,5865827,5865840,5865853,5865870,5865883,5865896,5865909,5865922,5865935,5865948,5865961,5865974,5865987,5866000,5866013,5866026,5866039,5866052,5866067,5866080,5866093,5866106,5866119,5866132,5866145,5866158,5866171,5866184,5866197,5866210,5866223,5866236 added | 200 OK\n",
      "[2019-01-23 17:41:48,479][INFO] [POST] algoannotations 5866249,5866262,5866275,5866288,5866301,5866314,5866327,5866340,5866353,5866366,5866379,5866392,5866405,5866418,5866431,5866444,5866457,5866470,5866483,5866496,5866509,5866522,5866535,5866548,5866561,5866574,5866587,5866600,5866613,5866626,5866639,5866652,5866665,5866678,5866691,5866704,5866717,5866730,5866743,5866756,5866769,5866782,5866795,5866808,5866821,5866834,5866847,5866864,5866877,5866890,5866903,5866916,5866929,5866942,5866955,5866968,5866981,5866994,5867007,5867020,5867033,5867046,5867059,5867074,5867087,5867100,5867113,5867126,5867139,5867152,5867165,5867178,5867191,5867204,5867217,5867230,5867243,5867256,5867269,5867282,5867295,5867308,5867321,5867334,5867347,5867360,5867373,5867386,5867399,5867412,5867425,5867438,5867451,5867464,5867477,5867490,5867503,5867516,5867529,5867542 added | 200 OK\n",
      "[2019-01-23 17:41:54,955][INFO] [POST] algoannotations 5867555,5867568,5867581,5867594,5867607,5867620,5867633,5867646,5867659,5867672,5867685,5867698,5867711,5867724,5867737,5867750,5867763,5867776,5867789,5867802,5867815,5867828,5867845,5867858,5867871,5867884,5867897,5867910,5867923,5867936,5867949,5867962,5867975,5867988,5868001,5868014,5868027,5868040,5868053,5868068,5868081,5868094,5868107,5868120,5868133,5868146,5868159,5868172,5868185,5868198,5868211,5868224,5868237,5868250,5868263,5868276,5868289,5868302,5868315,5868328,5868341,5868354,5868367,5868380,5868393,5868406,5868419,5868432,5868445,5868458,5868471,5868484,5868497,5868510,5868523,5868536,5868549,5868562,5868575,5868588,5868601,5868614,5868627,5868640,5868653,5868666,5868679,5868692,5868705,5868718,5868731,5868744,5868757,5868770,5868783,5868796,5868809,5868822,5868835,5868848 added | 200 OK\n",
      "[2019-01-23 17:42:01,175][INFO] [POST] algoannotations 5868865,5868878,5868891,5868904,5868917,5868930,5868943,5868956,5868969,5868982,5868995,5869008,5869021,5869034,5869047,5869060,5869075,5869088,5869101,5869114,5869127,5869140,5869153,5869166,5869179,5869192,5869205,5869218,5869231,5869244,5869257,5869270,5869283,5869296,5869309,5869322,5869335,5869348,5869361,5869374,5869387,5869400,5869413,5869426,5869439,5869452,5869465,5869478,5869491,5869504,5869517,5869530,5869543,5869556,5869569,5869582,5869595,5869608,5869621,5869634,5869647,5869660,5869673,5869686,5869699,5869712,5869725,5869738,5869751,5869764,5869777,5869790,5869803,5869816,5869829,5869842,5869855,5869868,5869881,5869894,5869907,5869920,5869933,5869950,5869963,5869976,5869989,5870002,5870015,5870028,5870041,5870054,5870067,5870080,5870093,5870106,5870119,5870132,5870147,5870160 added | 200 OK\n",
      "[2019-01-23 17:42:07,506][INFO] [POST] algoannotations 5870173,5870186,5870199,5870212,5870225,5870238,5870251,5870264,5870277,5870290,5870303,5870316,5870329,5870342,5870355,5870368,5870381,5870394,5870407,5870420,5870433,5870446,5870459,5870472,5870485,5870498,5870511,5870524,5870537,5870550,5870563,5870576,5870589,5870602,5870615,5870628,5870641,5870654,5870667,5870680,5870693,5870706,5870719,5870732,5870745,5870758,5870771,5870784,5870797,5870810,5870823,5870836,5870849,5870862,5870875,5870888,5870901,5870914,5870927,5870940,5870953,5870966,5870979,5870992,5871009,5871022,5871035,5871048,5871061,5871074,5871087,5871100,5871113,5871126,5871139,5871152,5871165,5871178,5871191,5871206,5871219,5871232,5871245,5871258,5871271,5871284,5871297,5871310,5871323,5871336,5871349,5871362,5871375,5871388,5871401,5871414,5871427,5871440,5871453,5871466 added | 200 OK\n",
      "[2019-01-23 17:42:13,223][INFO] [POST] algoannotations 5871479,5871492,5871505,5871518,5871531,5871544,5871557,5871570,5871583,5871596,5871609,5871622,5871635,5871648,5871661,5871674,5871687,5871700,5871713,5871726,5871739,5871752,5871765,5871778,5871791,5871804,5871817,5871830,5871843,5871856,5871869,5871882,5871895,5871908,5871921,5871934,5871947,5871960,5871973,5871986,5871999,5872016,5872029,5872042,5872055,5872068,5872081,5872094,5872107,5872120,5872133,5872146,5872159,5872172,5872185,5872198,5872211,5872226,5872239,5872252,5872265,5872278,5872291,5872304,5872317,5872330,5872343,5872356,5872369,5872382,5872395,5872408,5872421,5872434,5872447,5872460,5872473,5872486,5872499,5872512,5872525,5872538,5872551,5872564,5872577,5872590,5872603,5872616,5872629,5872642,5872655 added | 200 OK\n",
      "Found 1691 objects in this image 4042304.\n"
     ]
    }
   ],
   "source": [
    "from neubiaswg5.exporter.mask_to_points import mask_to_points_3d\n",
    "import io\n",
    "import os\n",
    "from skimage import io\n",
    "from cytomine.models import Annotation,AnnotationCollection, ImageGroupCollection, ImageInstance, ImageSequenceCollection\n",
    "from itertools import groupby\n",
    "from shapely.geometry import LineString, Point, MultiPoint\n",
    "from shapely.affinity import affine_transform\n",
    "import numpy as np\n",
    "   \n",
    "for image in nj.monitor(in_images, start=60, end=80, period=0.1, prefix=\"Extracting and uploading tracks from point-masks\"):\n",
    "    file = \"{}.tif\".format(image.id)\n",
    "    path = os.path.join(out_path, file)\n",
    "    data = io.imread(path)\n",
    "\n",
    "    # extract objects\n",
    "    objects = mask_to_points_3d(data, time=True)\n",
    "\n",
    "    objects = sorted(objects, key=lambda annotationSlice: annotationSlice.time)    \n",
    "    objects = sorted(objects, key=lambda annotationSlice: annotationSlice.label)    \n",
    "    grouped = groupby(objects,  key=lambda annotationSlice: annotationSlice.label)\n",
    "    \n",
    "    image_sequences = ImageSequenceCollection().fetch_with_filter(\"imagegroup\", image.id)\n",
    "    \n",
    "    depth_to_image = {iseq.time: iseq.image for iseq in image_sequences}\n",
    "    height = ImageInstance().fetch(image_sequences[0].image).height\n",
    "    \n",
    "    collection = AnnotationCollection()\n",
    "    \n",
    "    groups = []\n",
    "    uniquekeys = []\n",
    "    for k, g in grouped:\n",
    "        groups.append(list(g))      # Store group iterator as a list\n",
    "        uniquekeys.append(k)\n",
    "    \n",
    "    for key, group in zip(uniquekeys, groups):\n",
    "        listOfPoints = []\n",
    "        for oSlice in group:\n",
    "            listOfPoints.append((oSlice.polygon.x, oSlice.polygon.y))\n",
    "        # shape = LineString(listOfPoints)\n",
    "        shape = MultiPoint(listOfPoints)\n",
    "        for oSlice2 in group:\n",
    "            polygon = affine_transform(shape, [1, 0, 0, -1, 0, height])\n",
    "            annotation = Annotation(location=polygon.wkt, id_image=depth_to_image[oSlice2.time], id_project=nj.parameters.cytomine_id_project, property=[{\"key\": \"index\", \"value\": str(oSlice2.label)}])\n",
    "            collection.append(annotation)\n",
    "        \n",
    "    collection.save()\n",
    "    print(\"Found {} objects in this image {}.\".format(len(objects), image.id))\n",
    "    \n",
    "    "
   ]
  },
  {
   "cell_type": "markdown",
   "metadata": {},
   "source": [
    "#### Calculate and upload metrics"
   ]
  },
  {
   "cell_type": "code",
   "execution_count": 7,
   "metadata": {},
   "outputs": [
    {
     "name": "stdout",
     "output_type": "stream",
     "text": [
      "[2019-01-23 17:42:34,535][INFO] Job (id:5850435) status update: \"Computing and uploading metrics (if necessary)...\" (status: RUNNING, progress: 60%)\n",
      "[2019-01-23 17:42:34,721][INFO] [PUT] [job] 5850435 : None | 200 OK\n"
     ]
    },
    {
     "ename": "FileNotFoundError",
     "evalue": "[Errno 2] No such file or directory: '/home/baecker/5850435/tmp/intracks.xml.score.txt'",
     "output_type": "error",
     "traceback": [
      "\u001b[0;31m---------------------------------------------------------------------------\u001b[0m",
      "\u001b[0;31mFileNotFoundError\u001b[0m                         Traceback (most recent call last)",
      "\u001b[0;32m<ipython-input-7-63a612e751c6>\u001b[0m in \u001b[0;36m<module>\u001b[0;34m\u001b[0m\n\u001b[1;32m      1\u001b[0m \u001b[0;31m# 5. Compute and upload the metrics\u001b[0m\u001b[0;34m\u001b[0m\u001b[0;34m\u001b[0m\u001b[0m\n\u001b[1;32m      2\u001b[0m \u001b[0mnj\u001b[0m\u001b[0;34m.\u001b[0m\u001b[0mjob\u001b[0m\u001b[0;34m.\u001b[0m\u001b[0mupdate\u001b[0m\u001b[0;34m(\u001b[0m\u001b[0mprogress\u001b[0m\u001b[0;34m=\u001b[0m\u001b[0;36m80\u001b[0m\u001b[0;34m,\u001b[0m \u001b[0mstatusComment\u001b[0m\u001b[0;34m=\u001b[0m\u001b[0;34m\"Computing and uploading metrics (if necessary)...\"\u001b[0m\u001b[0;34m)\u001b[0m\u001b[0;34m\u001b[0m\u001b[0m\n\u001b[0;32m----> 3\u001b[0;31m \u001b[0mupload_metrics\u001b[0m\u001b[0;34m(\u001b[0m\u001b[0mproblem_cls\u001b[0m\u001b[0;34m,\u001b[0m \u001b[0mnj\u001b[0m\u001b[0;34m,\u001b[0m \u001b[0min_images\u001b[0m\u001b[0;34m,\u001b[0m \u001b[0mgt_path\u001b[0m\u001b[0;34m,\u001b[0m \u001b[0mout_path\u001b[0m\u001b[0;34m,\u001b[0m \u001b[0mtmp_path\u001b[0m\u001b[0;34m,\u001b[0m \u001b[0;34m**\u001b[0m\u001b[0mnj\u001b[0m\u001b[0;34m.\u001b[0m\u001b[0mflags\u001b[0m\u001b[0;34m)\u001b[0m\u001b[0;34m\u001b[0m\u001b[0m\n\u001b[0m\u001b[1;32m      4\u001b[0m \u001b[0;34m\u001b[0m\u001b[0m\n\u001b[1;32m      5\u001b[0m \u001b[0mnj\u001b[0m\u001b[0;34m.\u001b[0m\u001b[0mjob\u001b[0m\u001b[0;34m.\u001b[0m\u001b[0mupdate\u001b[0m\u001b[0;34m(\u001b[0m\u001b[0mstatus\u001b[0m\u001b[0;34m=\u001b[0m\u001b[0mJob\u001b[0m\u001b[0;34m.\u001b[0m\u001b[0mTERMINATED\u001b[0m\u001b[0;34m,\u001b[0m \u001b[0mprogress\u001b[0m\u001b[0;34m=\u001b[0m\u001b[0;36m100\u001b[0m\u001b[0;34m,\u001b[0m \u001b[0mstatusComment\u001b[0m\u001b[0;34m=\u001b[0m\u001b[0;34m\"Finished.\"\u001b[0m\u001b[0;34m)\u001b[0m\u001b[0;34m\u001b[0m\u001b[0m\n",
      "\u001b[0;32m~/anaconda3/envs/biaflows/lib/python3.6/site-packages/neubiaswg5/helpers/metric_upload.py\u001b[0m in \u001b[0;36mupload_metrics\u001b[0;34m(problemclass, nj, inputs, gt_path, out_path, tmp_path, metric_params, do_download, do_compute_metrics, **kwargs)\u001b[0m\n\u001b[1;32m     46\u001b[0m     ])\n\u001b[1;32m     47\u001b[0m     \u001b[0madditional_properties\u001b[0m\u001b[0;34m[\u001b[0m\u001b[0;34m\"IMAGES\"\u001b[0m\u001b[0;34m]\u001b[0m \u001b[0;34m=\u001b[0m \u001b[0mstr\u001b[0m\u001b[0;34m(\u001b[0m\u001b[0;34m[\u001b[0m\u001b[0mim\u001b[0m\u001b[0;34m.\u001b[0m\u001b[0mid\u001b[0m \u001b[0;32mif\u001b[0m \u001b[0mdo_download\u001b[0m \u001b[0;32melse\u001b[0m \u001b[0mos\u001b[0m\u001b[0;34m.\u001b[0m\u001b[0mpath\u001b[0m\u001b[0;34m.\u001b[0m\u001b[0mbasename\u001b[0m\u001b[0;34m(\u001b[0m\u001b[0mim\u001b[0m\u001b[0;34m)\u001b[0m \u001b[0;32mfor\u001b[0m \u001b[0mim\u001b[0m \u001b[0;32min\u001b[0m \u001b[0minputs\u001b[0m\u001b[0;34m]\u001b[0m\u001b[0;34m)\u001b[0m\u001b[0;34m\u001b[0m\u001b[0m\n\u001b[0;32m---> 48\u001b[0;31m     \u001b[0mresults\u001b[0m \u001b[0;34m=\u001b[0m \u001b[0mcomputemetrics_batch\u001b[0m\u001b[0;34m(\u001b[0m\u001b[0moutfiles\u001b[0m\u001b[0;34m,\u001b[0m \u001b[0mreffiles\u001b[0m\u001b[0;34m,\u001b[0m \u001b[0mproblemclass\u001b[0m\u001b[0;34m,\u001b[0m \u001b[0mtmp_path\u001b[0m\u001b[0;34m,\u001b[0m \u001b[0;34m**\u001b[0m\u001b[0mmetric_params\u001b[0m\u001b[0;34m)\u001b[0m\u001b[0;34m\u001b[0m\u001b[0m\n\u001b[0m\u001b[1;32m     49\u001b[0m \u001b[0;34m\u001b[0m\u001b[0m\n\u001b[1;32m     50\u001b[0m     \u001b[0;32mfor\u001b[0m \u001b[0mkey\u001b[0m\u001b[0;34m,\u001b[0m \u001b[0mvalue\u001b[0m \u001b[0;32min\u001b[0m \u001b[0mresults\u001b[0m\u001b[0;34m.\u001b[0m\u001b[0mitems\u001b[0m\u001b[0;34m(\u001b[0m\u001b[0;34m)\u001b[0m\u001b[0;34m:\u001b[0m\u001b[0;34m\u001b[0m\u001b[0m\n",
      "\u001b[0;32m~/anaconda3/envs/biaflows/lib/python3.6/site-packages/neubiaswg5/metrics/compute_metrics.py\u001b[0m in \u001b[0;36mcomputemetrics_batch\u001b[0;34m(infiles, refiles, problemclass, tmpfolder, verbose, **extra_params)\u001b[0m\n\u001b[1;32m     49\u001b[0m     \u001b[0mresults\u001b[0m \u001b[0;34m=\u001b[0m \u001b[0mdict\u001b[0m\u001b[0;34m(\u001b[0m\u001b[0;34m)\u001b[0m\u001b[0;34m\u001b[0m\u001b[0m\n\u001b[1;32m     50\u001b[0m     \u001b[0;32mfor\u001b[0m \u001b[0minfile\u001b[0m\u001b[0;34m,\u001b[0m \u001b[0mreffile\u001b[0m \u001b[0;32min\u001b[0m \u001b[0mzip\u001b[0m\u001b[0;34m(\u001b[0m\u001b[0minfiles\u001b[0m\u001b[0;34m,\u001b[0m \u001b[0mrefiles\u001b[0m\u001b[0;34m)\u001b[0m\u001b[0;34m:\u001b[0m\u001b[0;34m\u001b[0m\u001b[0m\n\u001b[0;32m---> 51\u001b[0;31m         \u001b[0mmetrics\u001b[0m\u001b[0;34m,\u001b[0m \u001b[0mparams\u001b[0m \u001b[0;34m=\u001b[0m \u001b[0mcomputemetrics\u001b[0m\u001b[0;34m(\u001b[0m\u001b[0minfile\u001b[0m\u001b[0;34m,\u001b[0m \u001b[0mreffile\u001b[0m\u001b[0;34m,\u001b[0m \u001b[0mproblemclass\u001b[0m\u001b[0;34m,\u001b[0m \u001b[0mtmpfolder\u001b[0m\u001b[0;34m,\u001b[0m \u001b[0mverbose\u001b[0m\u001b[0;34m=\u001b[0m\u001b[0mverbose\u001b[0m\u001b[0;34m,\u001b[0m \u001b[0;34m**\u001b[0m\u001b[0mextra_params\u001b[0m\u001b[0;34m)\u001b[0m\u001b[0;34m\u001b[0m\u001b[0m\n\u001b[0m\u001b[1;32m     52\u001b[0m \u001b[0;34m\u001b[0m\u001b[0m\n\u001b[1;32m     53\u001b[0m         \u001b[0;32mdef\u001b[0m \u001b[0mextend_list_dict\u001b[0m\u001b[0;34m(\u001b[0m\u001b[0mall_dict\u001b[0m\u001b[0;34m,\u001b[0m \u001b[0mcurr_dict\u001b[0m\u001b[0;34m)\u001b[0m\u001b[0;34m:\u001b[0m\u001b[0;34m\u001b[0m\u001b[0m\n",
      "\u001b[0;32m~/anaconda3/envs/biaflows/lib/python3.6/site-packages/neubiaswg5/metrics/compute_metrics.py\u001b[0m in \u001b[0;36mcomputemetrics\u001b[0;34m(infile, reffile, problemclass, tmpfolder, verbose, **extra_params)\u001b[0m\n\u001b[1;32m     67\u001b[0m             \u001b[0;32mif\u001b[0m \u001b[0;32mnot\u001b[0m \u001b[0mverbose\u001b[0m\u001b[0;34m:\u001b[0m\u001b[0;34m\u001b[0m\u001b[0m\n\u001b[1;32m     68\u001b[0m                 \u001b[0msys\u001b[0m\u001b[0;34m.\u001b[0m\u001b[0mstderr\u001b[0m\u001b[0;34m,\u001b[0m \u001b[0msys\u001b[0m\u001b[0;34m.\u001b[0m\u001b[0mstdout\u001b[0m \u001b[0;34m=\u001b[0m \u001b[0mdevnull\u001b[0m\u001b[0;34m,\u001b[0m \u001b[0mdevnull\u001b[0m\u001b[0;34m\u001b[0m\u001b[0m\n\u001b[0;32m---> 69\u001b[0;31m             \u001b[0moutputs\u001b[0m \u001b[0;34m=\u001b[0m \u001b[0m_computemetrics\u001b[0m\u001b[0;34m(\u001b[0m\u001b[0minfile\u001b[0m\u001b[0;34m,\u001b[0m \u001b[0mreffile\u001b[0m\u001b[0;34m,\u001b[0m \u001b[0mproblemclass\u001b[0m\u001b[0;34m,\u001b[0m \u001b[0mtmpfolder\u001b[0m\u001b[0;34m,\u001b[0m \u001b[0;34m**\u001b[0m\u001b[0mextra_params\u001b[0m\u001b[0;34m)\u001b[0m\u001b[0;34m\u001b[0m\u001b[0m\n\u001b[0m\u001b[1;32m     70\u001b[0m     \u001b[0;32mfinally\u001b[0m\u001b[0;34m:\u001b[0m\u001b[0;34m\u001b[0m\u001b[0m\n\u001b[1;32m     71\u001b[0m         \u001b[0msys\u001b[0m\u001b[0;34m.\u001b[0m\u001b[0mstdout\u001b[0m \u001b[0;34m=\u001b[0m \u001b[0msys\u001b[0m\u001b[0;34m.\u001b[0m\u001b[0m__stdout__\u001b[0m\u001b[0;34m\u001b[0m\u001b[0m\n",
      "\u001b[0;32m~/anaconda3/envs/biaflows/lib/python3.6/site-packages/neubiaswg5/metrics/compute_metrics.py\u001b[0m in \u001b[0;36m_computemetrics\u001b[0;34m(infile, reffile, problemclass, tmpfolder, **extra_params)\u001b[0m\n\u001b[1;32m    259\u001b[0m \u001b[0;34m\u001b[0m\u001b[0m\n\u001b[1;32m    260\u001b[0m         \u001b[0;31m# Parse the output file created automatically in tmpfolder\u001b[0m\u001b[0;34m\u001b[0m\u001b[0;34m\u001b[0m\u001b[0m\n\u001b[0;32m--> 261\u001b[0;31m         \u001b[0;32mwith\u001b[0m \u001b[0mopen\u001b[0m\u001b[0;34m(\u001b[0m\u001b[0mres_fname\u001b[0m\u001b[0;34m,\u001b[0m \u001b[0;34m\"r\"\u001b[0m\u001b[0;34m)\u001b[0m \u001b[0;32mas\u001b[0m \u001b[0mf\u001b[0m\u001b[0;34m:\u001b[0m\u001b[0;34m\u001b[0m\u001b[0m\n\u001b[0m\u001b[1;32m    262\u001b[0m             \u001b[0mbchmetrics\u001b[0m \u001b[0;34m=\u001b[0m \u001b[0;34m[\u001b[0m\u001b[0mline\u001b[0m\u001b[0;34m.\u001b[0m\u001b[0msplit\u001b[0m\u001b[0;34m(\u001b[0m\u001b[0;34m':'\u001b[0m\u001b[0;34m)\u001b[0m\u001b[0;34m[\u001b[0m\u001b[0;36m0\u001b[0m\u001b[0;34m]\u001b[0m\u001b[0;34m.\u001b[0m\u001b[0mstrip\u001b[0m\u001b[0;34m(\u001b[0m\u001b[0;34m)\u001b[0m \u001b[0;32mfor\u001b[0m \u001b[0mline\u001b[0m \u001b[0;32min\u001b[0m \u001b[0mf\u001b[0m\u001b[0;34m.\u001b[0m\u001b[0mreadlines\u001b[0m\u001b[0;34m(\u001b[0m\u001b[0;34m)\u001b[0m\u001b[0;34m]\u001b[0m\u001b[0;34m\u001b[0m\u001b[0m\n\u001b[1;32m    263\u001b[0m \u001b[0;34m\u001b[0m\u001b[0m\n",
      "\u001b[0;31mFileNotFoundError\u001b[0m: [Errno 2] No such file or directory: '/home/baecker/5850435/tmp/intracks.xml.score.txt'"
     ]
    }
   ],
   "source": [
    "# 5. Compute and upload the metrics\n",
    "nj.job.update(progress=80, statusComment=\"Computing and uploading metrics (if necessary)...\")\n",
    "upload_metrics(problem_cls, nj, in_images, gt_path, out_path, tmp_path, **nj.flags)\n",
    "\n",
    "nj.job.update(status=Job.TERMINATED, progress=100, statusComment=\"Finished.\")"
   ]
  },
  {
   "cell_type": "markdown",
   "metadata": {},
   "source": [
    "#### Cleanup - remove the files and folders that have been downloaded or created."
   ]
  },
  {
   "cell_type": "code",
   "execution_count": null,
   "metadata": {},
   "outputs": [],
   "source": [
    "for image in in_images:\n",
    "    file = str(image.id)\n",
    "    path = out_path + \"/\" + file + \".tif\"\n",
    "    os.remove(path);\n",
    "    path = in_path + \"/\" + file  + \".tif\"\n",
    "    os.remove(path);\n",
    "    path = gt_path + \"/\" + file  + \".tif\"\n",
    "    os.remove(path);\n",
    "    \n",
    "tmpData = ['intracks.xml', 'intracks.xml.score.txt', 'reftracks.xml']\n",
    "for file in tmpData:\n",
    "    path = tmp_path + \"/\" + file\n",
    "    os.remove(path);\n",
    "if os.path.exists(working_path):\n",
    "    os.rmdir(in_path)\n",
    "    os.rmdir(out_path)\n",
    "    os.rmdir(gt_path)\n",
    "    os.rmdir(tmp_path)\n",
    "    os.rmdir(working_path)"
   ]
  },
  {
   "cell_type": "markdown",
   "metadata": {},
   "source": [
    "#### End the job and the connection to cytomine"
   ]
  },
  {
   "cell_type": "code",
   "execution_count": null,
   "metadata": {},
   "outputs": [],
   "source": [
    "nj.job.update(status=Job.TERMINATED, progress=100, statusComment=\"Finished.\")\n",
    "print(\"END.\")"
   ]
  }
 ],
 "metadata": {
  "celltoolbar": "Initialization Cell",
  "kernelspec": {
   "display_name": "Python 3",
   "language": "python",
   "name": "python3"
  },
  "language_info": {
   "codemirror_mode": {
    "name": "ipython",
    "version": 3
   },
   "file_extension": ".py",
   "mimetype": "text/x-python",
   "name": "python",
   "nbconvert_exporter": "python",
   "pygments_lexer": "ipython3",
   "version": "3.6.6"
  },
  "toc": {
   "base_numbering": 1,
   "nav_menu": {},
   "number_sections": false,
   "sideBar": false,
   "skip_h1_title": false,
   "title_cell": "Table of Contents",
   "title_sidebar": "Contents",
   "toc_cell": false,
   "toc_position": {},
   "toc_section_display": false,
   "toc_window_display": false
  }
 },
 "nbformat": 4,
 "nbformat_minor": 2
}
