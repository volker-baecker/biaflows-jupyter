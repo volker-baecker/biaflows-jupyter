{
 "cells": [
  {
   "cell_type": "markdown",
   "metadata": {},
   "source": [
    "# BIAFlows\n",
    "\n",
    "## Nuclei Tracking 2D+t\n",
    "\n",
    "### Fiji-workflow\n",
    "\n",
    "The workflow treats the time-dimension as z-dimension and does a 3D-segmentation of the objects. The resulting object slices are then reduced to a center point."
   ]
  },
  {
   "cell_type": "markdown",
   "metadata": {},
   "source": [
    "#### Initialize the cytomine client and job\n",
    "\n",
    "The cytomine client needs some parameters to connect to the server. The host on which the server is running, the public and private keys to make a connection, the id of the project and the id of the software.\n",
    "The remaining 3 parameters will be passed on to the image analysis workflow."
   ]
  },
  {
   "cell_type": "code",
   "execution_count": null,
   "metadata": {},
   "outputs": [],
   "source": [
    "from getpass import getpass \n",
    "\n",
    "publicKey = getpass(\"Please enter the public key: \")\n",
    "privateKey = getpass(\"Please enter the private key: \")\n",
    "\n",
    "argv = ['--cytomine_public_key', publicKey, \n",
    " '--cytomine_host',  'neubias.cytomine.be',\n",
    " '--cytomine_private_key',  privateKey,\n",
    " '--cytomine_id_project',  '1695226', \n",
    " '--cytomine_id_software', '3804897',\n",
    " '--ij_gauss_radius',  '3',\n",
    " '--ij_threshold',  '60',\n",
    " '--ij_open_radius', '7']"
   ]
  },
  {
   "cell_type": "markdown",
   "metadata": {},
   "source": [
    "Import CytomineJob and Job and update the status information. Set the problem class to particle-tracking (PrtTrk)."
   ]
  },
  {
   "cell_type": "code",
   "execution_count": null,
   "metadata": {},
   "outputs": [],
   "source": [
    "import sys\n",
    "from subprocess import call\n",
    "\n",
    "from cytomine.models import Job\n",
    "\n",
    "from neubiaswg5 import CLASS_PRTTRK\n",
    "from neubiaswg5.helpers import NeubiasJob, prepare_data, upload_data, upload_metrics\n",
    "\n",
    "jobID=-666\n",
    "with NeubiasJob.from_cli(argv) as nj:\n",
    "    nj.job.update(status=Job.RUNNING, progress=0, statusComment=\"Initialisation...\")\n",
    "    jobID = nj.job.id\n",
    "    \n",
    "problem_cls = CLASS_PRTTRK"
   ]
  },
  {
   "cell_type": "markdown",
   "metadata": {},
   "source": [
    "#### Create local directories and download images\n",
    "\n",
    "Create the local working directories in a subfolder jobID of the user's home folder.\n",
    "\n",
    "- in: input images\n",
    "- out: output images\n",
    "- ground_truth: ground truth images\n",
    "- tmp: temporary path"
   ]
  },
  {
   "cell_type": "code",
   "execution_count": null,
   "metadata": {},
   "outputs": [],
   "source": [
    "in_images, gt_images, in_path, gt_path, out_path, tmp_path = prepare_data(problem_cls, nj, is_2d=False, **nj.flags)"
   ]
  },
  {
   "cell_type": "markdown",
   "metadata": {},
   "source": [
    "#### Call the image analysis workflow "
   ]
  },
  {
   "cell_type": "code",
   "execution_count": null,
   "metadata": {},
   "outputs": [],
   "source": [
    "from subprocess import call\n",
    "\n",
    "nj.job.update(progress=25, statusComment=\"Launching workflow...\")\n",
    "command = \"/usr/bin/xvfb-run ./ImageJ-linux64 -macro NucleiTracking.ijm \" \\\n",
    "\t\t\"\\\"input={}, output={}, gauss_rad={}, threshold={}, open_rad={}\\\" -batch\".format(in_path, out_path, nj.parameters.ij_gauss_radius, nj.parameters.ij_threshold, nj.parameters.ij_open_radius)\n",
    "\n",
    "return_code = call(command, shell=True, cwd=\"./Fiji.app\")  # waits for the subprocess to return\n",
    "\n",
    "if return_code != 0:\n",
    "    err_desc = \"Failed to execute the ImageJ macro (return code: {})\".format(return_code)\n",
    "    nj.job.update(progress=50, statusComment=err_desc)\n",
    "    raise ValueError(err_desc)\n",
    "nj.job.update(progress=30, statusComment=\"Workflow finished...\")\n"
   ]
  },
  {
   "cell_type": "markdown",
   "metadata": {},
   "source": [
    "#### Create and upload annotations"
   ]
  },
  {
   "cell_type": "code",
   "execution_count": null,
   "metadata": {
    "scrolled": true
   },
   "outputs": [],
   "source": [
    "from neubiaswg5.exporter.mask_to_points import mask_to_points_3d\n",
    "import io\n",
    "from skimage import io\n",
    "from cytomine.models import Annotation,AnnotationCollection, ImageGroupCollection, ImageInstance, ImageSequenceCollection\n",
    "from itertools import groupby\n",
    "from shapely.geometry import LineString\n",
    "from shapely.affinity import affine_transform\n",
    "import numpy as np\n",
    "   \n",
    "for image in nj.monitor(input_images, start=60, end=80, period=0.1, prefix=\"Extracting and uploading tracks from point-masks\"):\n",
    "    file = \"{}.tif\".format(image.id)\n",
    "    path = os.path.join(out_path, file)\n",
    "    data = io.imread(path)\n",
    "\n",
    "    # extract objects\n",
    "    objects = mask_to_points_3d(data, time=True)\n",
    "\n",
    "    objects = sorted(objects, key=lambda annotationSlice: annotationSlice.time)    \n",
    "    objects = sorted(objects, key=lambda annotationSlice: annotationSlice.label)    \n",
    "    grouped = groupby(objects,  key=lambda annotationSlice: annotationSlice.label)\n",
    "    \n",
    "    image_sequences = ImageSequenceCollection().fetch_with_filter(\"imagegroup\", image.id)\n",
    "    \n",
    "    depth_to_image = {iseq.time: iseq.image for iseq in image_sequences}\n",
    "    height = ImageInstance().fetch(image_sequences[0].image).height\n",
    "    \n",
    "    collection = AnnotationCollection()\n",
    "    \n",
    "    groups = []\n",
    "    uniquekeys = []\n",
    "    for k, g in grouped:\n",
    "        groups.append(list(g))      # Store group iterator as a list\n",
    "        uniquekeys.append(k)\n",
    "    \n",
    "    for key, group in zip(uniquekeys, groups):\n",
    "        listOfPoints = []\n",
    "        for oSlice in group:\n",
    "            listOfPoints.append((oSlice.polygon.x, oSlice.polygon.y))\n",
    "        shape = LineString(listOfPoints)\n",
    "        for oSlice2 in group:\n",
    "            polygon = affine_transform(shape, [1, 0, 0, -1, 0, height])\n",
    "            annotation = Annotation(location=polygon.wkt, id_image=depth_to_image[oSlice2.time], id_project=cj.parameters.cytomine_id_project, property=[{\"key\": \"index\", \"value\": str(oSlice2.label)}])\n",
    "            collection.append(annotation)\n",
    "        \n",
    "    collection.save()\n",
    "    print(\"Found {} objects in this image {}.\".format(len(objects), image.id))\n",
    "    \n",
    "    "
   ]
  },
  {
   "cell_type": "markdown",
   "metadata": {},
   "source": [
    "#### Calculate and upload metrics"
   ]
  },
  {
   "cell_type": "code",
   "execution_count": null,
   "metadata": {},
   "outputs": [],
   "source": [
    "# 5. Compute and upload the metrics\n",
    "nj.job.update(progress=80, statusComment=\"Computing and uploading metrics (if necessary)...\")\n",
    "upload_metrics(problem_cls, nj, in_images, gt_path, out_path, tmp_path, **nj.flags)\n",
    "\n",
    "nj.job.update(status=Job.TERMINATED, progress=100, statusComment=\"Finished.\")"
   ]
  },
  {
   "cell_type": "markdown",
   "metadata": {},
   "source": [
    "#### Cleanup - remove the files and folders that have been downloaded or created."
   ]
  },
  {
   "cell_type": "code",
   "execution_count": null,
   "metadata": {},
   "outputs": [],
   "source": [
    "for image in input_images:\n",
    "    file = str(image.id)\n",
    "    path = out_path + \"/\" + file + \".tif\"\n",
    "    os.remove(path);\n",
    "    path = in_path + \"/\" + file  + \".tif\"\n",
    "    os.remove(path);\n",
    "    path = gt_path + \"/\" + file  + \".tif\"\n",
    "    os.remove(path);\n",
    "    \n",
    "tmpData = ['intracks.xml', 'intracks.xml.score.txt', 'reftracks.xml']\n",
    "for file in tmpData:\n",
    "    path = tmp_path + \"/\" + file\n",
    "    os.remove(path);\n",
    "if os.path.exists(working_path):\n",
    "    os.rmdir(in_path)\n",
    "    os.rmdir(out_path)\n",
    "    os.rmdir(gt_path)\n",
    "    os.rmdir(tmp_path)\n",
    "    os.rmdir(working_path)"
   ]
  },
  {
   "cell_type": "markdown",
   "metadata": {},
   "source": [
    "#### End the job and the connection to cytomine"
   ]
  },
  {
   "cell_type": "code",
   "execution_count": null,
   "metadata": {},
   "outputs": [],
   "source": [
    "nj.job.update(status=Job.TERMINATED, progress=100, statusComment=\"Finished.\")\n",
    "print(\"END.\")"
   ]
  }
 ],
 "metadata": {
  "celltoolbar": "Initialization Cell",
  "kernelspec": {
   "display_name": "Python 3",
   "language": "python",
   "name": "python3"
  },
  "language_info": {
   "codemirror_mode": {
    "name": "ipython",
    "version": 3
   },
   "file_extension": ".py",
   "mimetype": "text/x-python",
   "name": "python",
   "nbconvert_exporter": "python",
   "pygments_lexer": "ipython3",
   "version": "3.6.6"
  },
  "toc": {
   "base_numbering": 1,
   "nav_menu": {},
   "number_sections": false,
   "sideBar": false,
   "skip_h1_title": false,
   "title_cell": "Table of Contents",
   "title_sidebar": "Contents",
   "toc_cell": false,
   "toc_position": {},
   "toc_section_display": false,
   "toc_window_display": false
  }
 },
 "nbformat": 4,
 "nbformat_minor": 2
}
