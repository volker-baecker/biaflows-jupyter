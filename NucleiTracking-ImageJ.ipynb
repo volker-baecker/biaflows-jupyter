{
 "cells": [
  {
   "cell_type": "markdown",
   "metadata": {},
   "source": [
    "# BIAFlows\n",
    "\n",
    "## Nuclei Tracking 2D+t\n",
    "\n",
    "### Fiji-workflow\n",
    "\n",
    "The workflow treats the time-dimension as z-dimension and does a 3D-segmentation of the objects. The resulting object slices are then reduced to a center point."
   ]
  },
  {
   "cell_type": "markdown",
   "metadata": {},
   "source": [
    "#### Initialize the cytomine client and job\n",
    "\n",
    "The cytomine client needs some parameters to connect to the server. The host on which the server is running, the public and private keys to make a connection, the id of the project and the id of the software.\n",
    "The remaining 3 parameters will be passed on to the image analysis workflow."
   ]
  },
  {
   "cell_type": "code",
   "execution_count": 1,
   "metadata": {},
   "outputs": [
    {
     "name": "stdout",
     "output_type": "stream",
     "text": [
      "Please enter the public key: ········\n",
      "Please enter the private key: ········\n"
     ]
    }
   ],
   "source": [
    "from getpass import getpass \n",
    "\n",
    "publicKey = getpass(\"Please enter the public key: \")\n",
    "privateKey = getpass(\"Please enter the private key: \")\n",
    "\n",
    "argv = ['--cytomine_public_key', publicKey, \n",
    " '--cytomine_host',  'neubias.cytomine.be',\n",
    " '--cytomine_private_key',  privateKey,\n",
    " '--cytomine_id_project',  '1695226', \n",
    " '--cytomine_id_software', '3804897',\n",
    " '--ij_gauss_radius',  '3',\n",
    " '--ij_threshold',  '60',\n",
    " '--ij_open_radius', '7']"
   ]
  },
  {
   "cell_type": "markdown",
   "metadata": {},
   "source": [
    "Import CytomineJob and Job and update the status information."
   ]
  },
  {
   "cell_type": "code",
   "execution_count": 2,
   "metadata": {},
   "outputs": [
    {
     "name": "stdout",
     "output_type": "stream",
     "text": [
      "[2019-01-23 17:48:33,603][INFO] [GET] [currentuser] CURRENT USER - 5739 : neubias | 200 OK\n",
      "[2019-01-23 17:48:33,665][INFO] [GET] [project] 1695226 : NEUBIAS-BENCHMARK-NUCLEI-TRACKING-NODIVISION | 200 OK\n",
      "[2019-01-23 17:48:33,723][INFO] [GET] [software] 3804897 : NucleiTracking-ImageJ | 200 OK\n",
      "[2019-01-23 17:48:33,774][INFO] [GET] [softwareparameter collection] 8 objects | 200 OK\n",
      "[2019-01-23 17:48:33,907][INFO] [POST] [job] 5873138 : None | 200 OK\n",
      "[2019-01-23 17:48:33,965][INFO] [GET] [user] 5873144 : JOB[neubias ], 2019-01-23 16:48:33:857 | 200 OK\n",
      "[2019-01-23 17:48:34,017][INFO] [GET] [currentuser] CURRENT USER - 5873144 : JOB[neubias ], 2019-01-23 16:48:33:857 | 200 OK\n",
      "[2019-01-23 17:48:34,018][INFO] Job (id:5873138) status update: \"None\" (status: RUNNING, progress: 0%)\n",
      "[2019-01-23 17:48:34,106][INFO] [PUT] [job] 5873138 : None | 200 OK\n",
      "[2019-01-23 17:48:34,172][INFO] [POST] [jobparameter] 5873152 : ij_gauss_radius | 200 OK\n",
      "[2019-01-23 17:48:34,239][INFO] [POST] [jobparameter] 5873158 : ij_threshold | 200 OK\n",
      "[2019-01-23 17:48:34,306][INFO] [POST] [jobparameter] 5873164 : ij_open_radius | 200 OK\n",
      "[2019-01-23 17:48:34,309][INFO] Job (id:5873138) status update: \"Initialisation...\" (status: RUNNING, progress: 0%)\n",
      "[2019-01-23 17:48:34,414][INFO] [PUT] [job] 5873138 : None | 200 OK\n",
      "[2019-01-23 17:48:34,445][INFO] Job (id:5873138) status update: \"Job successfully terminated\" (status: SUCCESS/TERMINATED, progress: 0%)\n",
      "[2019-01-23 17:48:34,539][INFO] [PUT] [job] 5873138 : None | 200 OK\n"
     ]
    }
   ],
   "source": [
    "from cytomine import CytomineJob\n",
    "from cytomine.models import Job\n",
    "from beakerx.object import beakerx\n",
    "jobID=-666\n",
    "with CytomineJob.from_cli(argv) as cj:\n",
    "        cj.job.update(status=Job.RUNNING, progress=0, statusComment=\"Initialisation...\")\n",
    "        jobID = cj.job.id\n",
    "        beakerx.ij_gauss_radius = cj.parameters.ij_gauss_radius\n",
    "        beakerx.ij_threshold = cj.parameters.ij_threshold\n",
    "        beakerx.ij_open_radius = cj.parameters.ij_open_radius"
   ]
  },
  {
   "cell_type": "markdown",
   "metadata": {},
   "source": [
    "#### Create local directories\n",
    "\n",
    "Create the local working directories in a subfolder jobID of the user's home folder.\n",
    "\n",
    "- in: input images\n",
    "- out: output images\n",
    "- ground_truth: ground truth images\n",
    "- tmp: temporary path"
   ]
  },
  {
   "cell_type": "code",
   "execution_count": 3,
   "metadata": {},
   "outputs": [],
   "source": [
    "import os\n",
    "from beakerx.object import beakerx\n",
    "base_path = \"{}\".format(os.getenv(\"HOME\"))\n",
    "gt_suffix = \"_lbl\"\n",
    "working_path = os.path.join(base_path, str(jobID))\n",
    "in_path = os.path.join(working_path, \"in\")\n",
    "out_path = os.path.join(working_path, \"out\")\n",
    "gt_path = os.path.join(working_path, \"ground_truth\")\n",
    "tmp_path = os.path.join(working_path, \"tmp\")\n",
    "\n",
    "if not os.path.exists(working_path):\n",
    "    os.makedirs(working_path)\n",
    "    os.makedirs(in_path)\n",
    "    os.makedirs(out_path)\n",
    "    os.makedirs(gt_path)\n",
    "    os.makedirs(tmp_path)\n",
    "\n",
    "beakerx.in_path = in_path\n",
    "beakerx.out_path = out_path"
   ]
  },
  {
   "cell_type": "markdown",
   "metadata": {},
   "source": [
    "#### Download the images"
   ]
  },
  {
   "cell_type": "code",
   "execution_count": 4,
   "metadata": {},
   "outputs": [
    {
     "name": "stdout",
     "output_type": "stream",
     "text": [
      "[2019-01-23 17:48:41,584][INFO] Job (id:5873138) status update: \"Downloading images (to /home/baecker/5873138/in)...\" (status: SUCCESS/TERMINATED, progress: 0%)\n",
      "[2019-01-23 17:48:41,723][INFO] [PUT] [job] 5873138 : None | 200 OK\n",
      "[2019-01-23 17:48:41,782][INFO] [GET] [imagegroup collection] 2 objects | 200 OK\n",
      "[2019-01-23 17:48:42,242][INFO] File downloaded successfully from http://neubias.cytomine.be/api/imagegroup/4042304/download\n",
      "[2019-01-23 17:48:42,617][INFO] File downloaded successfully from http://neubias.cytomine.be/api/imagegroup/4042708/download\n"
     ]
    }
   ],
   "source": [
    "from cytomine.models import ImageGroupCollection\n",
    "cj.job.update(progress=10, statusComment=\"Downloading images (to {})...\".format(in_path))\n",
    "image_group = ImageGroupCollection().fetch_with_filter(\"project\", cj.parameters.cytomine_id_project)\n",
    "\n",
    "input_images = [i for i in image_group if gt_suffix not in i.name]\n",
    "gt_images = [i for i in image_group if gt_suffix in i.name]\n",
    "\n",
    "for input_image in input_images:\n",
    "    input_image.download(os.path.join(in_path, \"{id}.tif\"))\n",
    "\n",
    "for gt_image in gt_images:\n",
    "    related_name = gt_image.name.replace(gt_suffix, '')\n",
    "    related_image = [i for i in input_images if related_name == i.name]\n",
    "    if len(related_image) == 1:\n",
    "        gt_image.download(os.path.join(gt_path, \"{}.tif\".format(related_image[0].id)))"
   ]
  },
  {
   "cell_type": "markdown",
   "metadata": {},
   "source": [
    "#### Call the image analysis workflow "
   ]
  },
  {
   "cell_type": "code",
   "execution_count": 5,
   "metadata": {},
   "outputs": [
    {
     "name": "stdout",
     "output_type": "stream",
     "text": [
      "[2019-01-23 17:48:52,212][INFO] Job (id:5873138) status update: \"Launching workflow...\" (status: SUCCESS/TERMINATED, progress: 10%)\n",
      "[2019-01-23 17:48:52,364][INFO] [PUT] [job] 5873138 : None | 200 OK\n",
      "[2019-01-23 17:49:00,180][INFO] Job (id:5873138) status update: \"Workflow finished...\" (status: SUCCESS/TERMINATED, progress: 25%)\n",
      "[2019-01-23 17:49:00,279][INFO] [PUT] [job] 5873138 : None | 200 OK\n"
     ]
    },
    {
     "data": {
      "text/plain": [
       "<cytomine.models.software.Job at 0x7f25969e84e0>"
      ]
     },
     "execution_count": 5,
     "metadata": {},
     "output_type": "execute_result"
    }
   ],
   "source": [
    "from subprocess import call\n",
    "\n",
    "cj.job.update(progress=25, statusComment=\"Launching workflow...\")\n",
    "command = \"/usr/bin/xvfb-run ./ImageJ-linux64 -macro NucleiTracking.ijm \" \\\n",
    "\t\t\"\\\"input={}, output={}, gauss_rad={}, threshold={}, open_rad={}\\\" -batch\".format(in_path, out_path, cj.parameters.ij_gauss_radius, cj.parameters.ij_threshold, cj.parameters.ij_open_radius)\n",
    "\n",
    "return_code = call(command, shell=True, cwd=\"./Fiji.app\")  # waits for the subprocess to return\n",
    "\n",
    "if return_code != 0:\n",
    "    err_desc = \"Failed to execute the ImageJ macro (return code: {})\".format(return_code)\n",
    "    cj.job.update(progress=50, statusComment=err_desc)\n",
    "    raise ValueError(err_desc)\n",
    "cj.job.update(progress=30, statusComment=\"Workflow finished...\")\n"
   ]
  },
  {
   "cell_type": "markdown",
   "metadata": {},
   "source": [
    "#### Create and upload annotations"
   ]
  },
  {
   "cell_type": "code",
   "execution_count": 6,
   "metadata": {
    "scrolled": true
   },
   "outputs": [
    {
     "name": "stdout",
     "output_type": "stream",
     "text": [
      "[2019-01-23 17:49:03,590][INFO] Job (id:5873138) status update: \"Extracting and uploading tracks from point-masks (1/1).\" (status: RUNNING, progress: 30%)\n",
      "[2019-01-23 17:49:03,754][INFO] [PUT] [job] 5873138 : None | 200 OK\n",
      "[2019-01-23 17:49:03,941][INFO] [GET] [imagesequence collection] 10 objects | 200 OK\n",
      "[2019-01-23 17:49:03,998][INFO] [GET] [imageinstance] 4041830 : /1539945624298/ShortMovie.ome_Z0_C0_T5.tiff | 200 OK\n",
      "[2019-01-23 17:49:10,316][INFO] [POST] algoannotations 5873237,5873251,5873265,5873279,5873295,5873311,5873325,5873339,5873353,5873367,5873381,5873394,5873407,5873420,5873433,5873446,5873459,5873472,5873485,5873498,5873511,5873524,5873537,5873552,5873565,5873578,5873591,5873604,5873617,5873630,5873643,5873656,5873669,5873682,5873695,5873708,5873721,5873734,5873747,5873760,5873773,5873786,5873799,5873812,5873825,5873838,5873851,5873864,5873877,5873890,5873903,5873916,5873929,5873942,5873955,5873968,5873981,5873994,5874007,5874020,5874033,5874046,5874059,5874072,5874085,5874098,5874111,5874124,5874137,5874150,5874163,5874176,5874189,5874202,5874215,5874228,5874241,5874254,5874267,5874280,5874293,5874306,5874319,5874332,5874345,5874358,5874371,5874384,5874397,5874410,5874423,5874436,5874449,5874462,5874475,5874488,5874501,5874518,5874531,5874544 added | 200 OK\n",
      "[2019-01-23 17:49:15,636][INFO] [POST] algoannotations 5874557,5874570,5874583,5874596,5874609,5874622,5874635,5874648,5874661,5874674,5874687,5874702,5874715,5874728,5874741,5874754,5874767,5874780,5874793,5874806,5874819,5874832,5874845,5874858,5874871,5874884,5874897,5874910,5874923,5874936,5874949,5874962,5874975,5874988,5875001,5875014,5875027,5875040,5875053,5875066,5875079,5875092,5875105,5875118,5875131,5875144,5875157,5875170,5875183,5875196,5875209,5875222,5875235,5875248,5875261,5875274,5875287,5875300,5875313,5875326,5875339,5875352,5875365,5875378,5875391,5875404,5875417,5875430,5875443,5875456,5875469,5875482,5875495,5875508,5875521,5875534,5875547,5875560,5875573,5875586,5875599,5875612,5875625,5875638,5875651,5875664,5875677,5875690,5875703,5875720,5875733,5875746,5875759,5875772,5875785,5875798,5875811,5875824,5875837,5875850 added | 200 OK\n",
      "[2019-01-23 17:49:21,848][INFO] [POST] algoannotations 5875863,5875876,5875889,5875902,5875916,5875930,5875943,5875956,5875969,5875982,5875995,5876008,5876021,5876034,5876047,5876060,5876073,5876086,5876099,5876112,5876125,5876138,5876151,5876164,5876177,5876190,5876203,5876216,5876229,5876242,5876255,5876268,5876281,5876294,5876307,5876320,5876333,5876346,5876359,5876372,5876385,5876398,5876411,5876424,5876437,5876450,5876463,5876476,5876489,5876502,5876515,5876528,5876541,5876554,5876567,5876580,5876593,5876606,5876619,5876632,5876645,5876658,5876671,5876684,5876697,5876710,5876723,5876736,5876749,5876762,5876775,5876788,5876801,5876818,5876831,5876844,5876857,5876870,5876883,5876896,5876909,5876922,5876935,5876948,5876961,5876974,5876987,5877002,5877015,5877028,5877041,5877054,5877067,5877080,5877093,5877106,5877119,5877132,5877145,5877158 added | 200 OK\n",
      "[2019-01-23 17:49:27,652][INFO] [POST] algoannotations 5877171,5877184,5877197,5877210,5877223,5877236,5877249,5877262,5877275,5877288,5877301,5877314,5877327,5877340,5877353,5877366,5877379,5877392,5877405,5877418,5877431,5877444,5877457,5877470,5877483,5877496,5877509,5877522,5877535,5877548,5877561,5877574,5877587,5877600,5877613,5877626,5877639,5877652,5877665,5877678,5877691,5877704,5877717,5877730,5877743,5877756,5877769,5877782,5877795,5877808,5877821,5877834,5877847,5877860,5877873,5877886,5877899,5877912,5877925,5877942,5877955,5877968,5877981,5877994,5878007,5878020,5878033,5878046,5878059,5878072,5878085,5878098,5878111,5878126,5878139,5878152,5878165,5878178,5878191,5878204,5878217,5878230,5878243,5878256,5878269,5878282,5878295,5878308,5878321,5878334,5878347,5878360,5878373,5878386,5878399,5878412,5878425,5878438,5878451,5878464 added | 200 OK\n",
      "[2019-01-23 17:49:34,980][INFO] [POST] algoannotations 5878477,5878490,5878503,5878516,5878529,5878542,5878555,5878568,5878581,5878594,5878607,5878620,5878633,5878646,5878659,5878672,5878685,5878698,5878711,5878724,5878737,5878750,5878763,5878776,5878789,5878802,5878815,5878828,5878841,5878854,5878867,5878880,5878893,5878906,5878919,5878932,5878945,5878958,5878971,5878984,5879001,5879014,5879027,5879040,5879053,5879066,5879079,5879092,5879105,5879118,5879131,5879144,5879157,5879170,5879183,5879198,5879211,5879224,5879237,5879250,5879263,5879276,5879289,5879302,5879315,5879328,5879341,5879354,5879367,5879380,5879393,5879406,5879419,5879432,5879445,5879458,5879471,5879484,5879497,5879510,5879523,5879536,5879549,5879562,5879575,5879588,5879601,5879614,5879627,5879640,5879653,5879666,5879679,5879692,5879705,5879718,5879731,5879744,5879757,5879770 added | 200 OK\n",
      "[2019-01-23 17:49:41,608][INFO] [POST] algoannotations 5879787,5879800,5879813,5879826,5879839,5879852,5879865,5879878,5879891,5879906,5879919,5879932,5879945,5879958,5879971,5879984,5879997,5880010,5880023,5880036,5880049,5880062,5880075,5880088,5880101,5880114,5880127,5880140,5880153,5880166,5880179,5880192,5880205,5880218,5880231,5880244,5880257,5880270,5880283,5880296,5880309,5880322,5880335,5880348,5880361,5880374,5880387,5880400,5880413,5880426,5880439,5880452,5880465,5880478,5880491,5880504,5880517,5880530,5880543,5880556,5880569,5880582,5880595,5880608,5880621,5880634,5880647,5880660,5880673,5880686,5880699,5880712,5880725,5880738,5880751,5880764,5880781,5880794,5880807,5880820,5880833,5880846,5880859,5880872,5880885,5880898,5880911,5880924,5880937,5880950,5880963,5880978,5880991,5881004,5881017,5881030,5881043,5881056,5881069,5881082 added | 200 OK\n",
      "[2019-01-23 17:49:47,952][INFO] [POST] algoannotations 5881095,5881108,5881121,5881134,5881147,5881160,5881173,5881186,5881199,5881212,5881225,5881238,5881251,5881264,5881277,5881290,5881303,5881316,5881329,5881342,5881355,5881368,5881381,5881394,5881407,5881420,5881433,5881446,5881459,5881472,5881485,5881498,5881511,5881524,5881537,5881550,5881563,5881576,5881589,5881602,5881615,5881628,5881641,5881654,5881667,5881680,5881693,5881706,5881719,5881732,5881745,5881758,5881771,5881784,5881797,5881810,5881823,5881840,5881853,5881866,5881879,5881892,5881905,5881918,5881931,5881944,5881957,5881970,5881983,5881996,5882009,5882024,5882037,5882050,5882063,5882076,5882089,5882102,5882115,5882128,5882141,5882154,5882167,5882180,5882193,5882206,5882219,5882232,5882245,5882258,5882271,5882284,5882297,5882310,5882323,5882336,5882349,5882362,5882375,5882388 added | 200 OK\n",
      "[2019-01-23 17:49:54,348][INFO] [POST] algoannotations 5882401,5882414,5882427,5882440,5882453,5882466,5882479,5882492,5882505,5882518,5882531,5882544,5882557,5882570,5882583,5882596,5882609,5882622,5882635,5882648,5882661,5882674,5882687,5882700,5882713,5882726,5882739,5882752,5882765,5882778,5882791,5882804,5882817,5882830,5882847,5882860,5882873,5882886,5882899,5882912,5882925,5882938,5882951,5882964,5882977,5882990,5883005,5883018,5883031,5883044,5883057,5883070,5883083,5883096,5883109,5883122,5883135,5883148,5883161,5883174,5883187,5883200,5883213,5883226,5883239,5883252,5883265,5883278,5883291,5883304,5883317,5883330,5883343,5883356,5883369,5883382,5883395,5883408,5883421,5883434,5883447,5883460,5883473,5883486,5883499,5883512,5883525,5883538,5883551,5883564,5883577,5883590,5883603,5883616,5883629,5883642,5883655,5883668,5883681,5883694 added | 200 OK\n",
      "[2019-01-23 17:50:00,892][INFO] [POST] algoannotations 5883707,5883720,5883733,5883746,5883759,5883772,5883785,5883798,5883811,5883824,5883841,5883854,5883867,5883880,5883893,5883906,5883919,5883932,5883945,5883958,5883971,5883984,5883997,5884010,5884023,5884038,5884051,5884064,5884077,5884090,5884103,5884116,5884129,5884142,5884155,5884168,5884181,5884194,5884207,5884220,5884233,5884246,5884259,5884272,5884285,5884298,5884311,5884324,5884337,5884350,5884363,5884376,5884389,5884402,5884415,5884428,5884441,5884454,5884467,5884480,5884493,5884506,5884519,5884532,5884545,5884558,5884571,5884584,5884597,5884610,5884623,5884636,5884649,5884662,5884675,5884688,5884701,5884714,5884727,5884740,5884753,5884766,5884779,5884792,5884805,5884818,5884831,5884846,5884861,5884874,5884887,5884900,5884913,5884926,5884939,5884952,5884965,5884978,5884991,5885004 added | 200 OK\n"
     ]
    },
    {
     "name": "stdout",
     "output_type": "stream",
     "text": [
      "[2019-01-23 17:50:07,195][INFO] [POST] algoannotations 5885017,5885032,5885045,5885058,5885071,5885084,5885097,5885110,5885123,5885136,5885149,5885162,5885175,5885188,5885201,5885214,5885227,5885240,5885253,5885266,5885279,5885292,5885305,5885318,5885331,5885344,5885357,5885370,5885383,5885396,5885409,5885422,5885435,5885448,5885461,5885474,5885487,5885500,5885513,5885526,5885539,5885552,5885565,5885578,5885591,5885604,5885617,5885630,5885643,5885656,5885669,5885682,5885695,5885708,5885721,5885734,5885747,5885760,5885773,5885786,5885799,5885812,5885825,5885838,5885851,5885864,5885877,5885890,5885907,5885920,5885933,5885946,5885959,5885972,5885985,5885998,5886011,5886024,5886037,5886050,5886063,5886076,5886089,5886104,5886117,5886130,5886143,5886156,5886169,5886182,5886195,5886208,5886221,5886234,5886247,5886260,5886273,5886286,5886299,5886312 added | 200 OK\n",
      "[2019-01-23 17:50:13,575][INFO] [POST] algoannotations 5886325,5886338,5886351,5886364,5886377,5886390,5886403,5886416,5886429,5886442,5886455,5886468,5886481,5886494,5886507,5886520,5886533,5886546,5886559,5886572,5886585,5886598,5886611,5886624,5886637,5886650,5886663,5886676,5886689,5886702,5886715,5886728,5886741,5886754,5886767,5886780,5886793,5886806,5886819,5886832,5886845,5886858,5886871,5886884,5886897,5886910,5886923,5886940,5886953,5886966,5886979,5886992,5887005,5887018,5887031,5887044,5887057,5887070,5887083,5887096,5887109,5887122,5887135,5887150,5887163,5887176,5887189,5887202,5887215,5887228,5887241,5887254,5887267,5887280,5887293,5887306,5887319,5887332,5887345,5887358,5887371,5887384,5887397,5887410,5887423,5887436,5887449,5887462,5887475,5887488,5887501,5887514,5887527,5887540,5887553,5887566,5887579,5887592,5887605,5887618 added | 200 OK\n",
      "[2019-01-23 17:50:19,693][INFO] [POST] algoannotations 5887631,5887644,5887657,5887670,5887683,5887696,5887709,5887722,5887735,5887748,5887761,5887774,5887787,5887800,5887813,5887826,5887839,5887852,5887865,5887878,5887891,5887904,5887921,5887934,5887947,5887960,5887973,5887986,5887999,5888012,5888025,5888038,5888051,5888064,5888077,5888090,5888103,5888116,5888129,5888142,5888157,5888170,5888183,5888196,5888209,5888222,5888235,5888248,5888261,5888274,5888287,5888300,5888313,5888326,5888339,5888352,5888365,5888378,5888391,5888404,5888417,5888430,5888443,5888456,5888469,5888482,5888495,5888508,5888521,5888534,5888547,5888560,5888573,5888586,5888599,5888612,5888625,5888638,5888651,5888664,5888677,5888690,5888703,5888716,5888729,5888742,5888755,5888768,5888781,5888794,5888807,5888820,5888833,5888846,5888859,5888872,5888885,5888898,5888911,5888924 added | 200 OK\n",
      "[2019-01-23 17:50:26,271][INFO] [POST] algoannotations 5888937,5888950,5888963,5888980,5888993,5889006,5889019,5889032,5889045,5889058,5889071,5889084,5889097,5889110,5889123,5889136,5889149,5889162,5889175,5889188,5889201,5889216,5889229,5889242,5889255,5889268,5889281,5889294,5889307,5889320,5889333,5889346,5889359,5889372,5889385,5889398,5889411,5889424,5889437,5889450,5889463,5889476,5889489,5889502,5889515,5889528,5889541,5889554,5889567,5889580,5889593,5889606,5889619,5889632,5889645,5889658,5889671,5889684,5889697,5889710,5889723,5889736,5889749,5889762,5889775,5889788,5889801,5889814,5889827,5889840,5889853,5889866,5889879,5889892,5889905,5889918,5889931,5889944,5889957,5889970,5889983,5889996,5890013,5890026,5890039,5890052,5890065,5890078,5890091,5890104,5890117,5890130,5890143,5890156,5890169,5890182,5890197,5890210,5890223,5890236 added | 200 OK\n",
      "[2019-01-23 17:50:33,295][INFO] [POST] algoannotations 5890249,5890262,5890275,5890288,5890301,5890314,5890327,5890340,5890353,5890366,5890379,5890392,5890405,5890418,5890431,5890444,5890457,5890470,5890483,5890496,5890509,5890522,5890535,5890548,5890561,5890574,5890587,5890600,5890613,5890626,5890639,5890652,5890665,5890678,5890691,5890704,5890717,5890730,5890743,5890756,5890769,5890782,5890795,5890808,5890821,5890834,5890847,5890860,5890873,5890886,5890899,5890912,5890925,5890938,5890951,5890964,5890981,5890994,5891007,5891020,5891033,5891046,5891059,5891072,5891085,5891098,5891111,5891124,5891137,5891150,5891163,5891176,5891189,5891204,5891217,5891230,5891243,5891256,5891269,5891282,5891295,5891308,5891321,5891334,5891347,5891360,5891373,5891386,5891399,5891412,5891425,5891438,5891451,5891464,5891477,5891490,5891503,5891516,5891529,5891542 added | 200 OK\n",
      "[2019-01-23 17:50:39,567][INFO] [POST] algoannotations 5891555,5891568,5891581,5891594,5891607,5891620,5891633,5891646,5891659,5891672,5891685,5891698,5891711,5891724,5891737,5891750,5891763,5891776,5891789,5891802,5891819,5891832,5891845,5891858,5891871,5891884,5891897,5891910,5891923,5891936,5891949,5891962,5891975,5891988,5892001,5892014,5892029,5892042,5892055,5892068,5892081,5892094,5892107,5892120,5892133,5892146,5892159,5892172,5892185,5892198,5892211,5892224,5892237,5892250,5892263,5892276,5892289,5892302,5892315,5892328,5892341,5892354,5892367,5892380,5892393,5892406,5892419,5892432,5892445,5892458,5892471,5892484,5892497,5892510,5892523,5892536,5892549,5892562,5892575,5892588,5892601,5892614,5892627,5892640,5892653,5892666,5892679,5892692,5892705,5892718,5892731,5892744,5892757,5892770,5892783,5892796,5892809,5892822,5892835,5892848 added | 200 OK\n",
      "[2019-01-23 17:50:45,804][INFO] [POST] algoannotations 5892861,5892874,5892887,5892900,5892913,5892926,5892943,5892956,5892969,5892982,5892995,5893008,5893021,5893034,5893047,5893060,5893073,5893086,5893099,5893112,5893125,5893138,5893151,5893164,5893179,5893192,5893205,5893218,5893231,5893244,5893257,5893270,5893283,5893296,5893309,5893322,5893335,5893348,5893361,5893374,5893387,5893400,5893413,5893426,5893439,5893452,5893465,5893478,5893491,5893504,5893517,5893530,5893543,5893556,5893569,5893582,5893595,5893608,5893621,5893634,5893647,5893660,5893673,5893686,5893699,5893712,5893725,5893738,5893751,5893764,5893777,5893790,5893803,5893816,5893829,5893842,5893855,5893868,5893881,5893894,5893907,5893920,5893933,5893946,5893959,5893972,5893985,5893998,5894015,5894028,5894041,5894054,5894067,5894080,5894093,5894106,5894119,5894132,5894145,5894158 added | 200 OK\n",
      "[2019-01-23 17:50:51,409][INFO] [POST] algoannotations 5894171,5894184,5894199,5894212,5894225,5894238,5894251,5894264,5894277,5894290,5894303,5894316,5894329,5894342,5894355,5894368,5894381,5894394,5894407,5894420,5894433,5894446,5894459,5894472,5894485,5894498,5894511,5894524,5894537,5894550,5894563,5894576,5894589,5894602,5894615,5894628,5894641,5894654,5894667,5894680,5894693,5894706,5894719,5894732,5894745,5894758,5894771,5894784,5894797,5894810,5894823,5894836,5894849,5894862,5894875,5894888,5894901,5894914,5894927,5894940,5894953,5894966,5894979,5894992,5895005,5895018,5895031,5895044,5895057,5895070,5895083,5895096,5895112,5895126,5895139,5895152,5895165,5895178,5895191,5895204,5895217,5895230,5895243,5895256,5895269,5895282,5895295,5895308,5895323,5895336,5895349 added | 200 OK\n",
      "Found 1691 objects in this image 4042304.\n"
     ]
    }
   ],
   "source": [
    "from neubiaswg5.exporter.mask_to_points import mask_to_points_3d\n",
    "import io\n",
    "from skimage import io\n",
    "from cytomine.models import Annotation,AnnotationCollection, ImageGroupCollection, ImageInstance, ImageSequenceCollection\n",
    "from itertools import groupby\n",
    "from shapely.geometry import LineString, Point, MultiPoint\n",
    "from shapely.affinity import affine_transform\n",
    "import numpy as np\n",
    "   \n",
    "for image in cj.monitor(input_images, start=60, end=80, period=0.1, prefix=\"Extracting and uploading tracks from point-masks\"):\n",
    "    file = \"{}.tif\".format(image.id)\n",
    "    path = os.path.join(out_path, file)\n",
    "    data = io.imread(path)\n",
    "\n",
    "    # extract objects\n",
    "    objects = mask_to_points_3d(data, time=True)\n",
    "\n",
    "    objects = sorted(objects, key=lambda annotationSlice: annotationSlice.time)    \n",
    "    objects = sorted(objects, key=lambda annotationSlice: annotationSlice.label)    \n",
    "    grouped = groupby(objects,  key=lambda annotationSlice: annotationSlice.label)\n",
    "    \n",
    "    image_sequences = ImageSequenceCollection().fetch_with_filter(\"imagegroup\", image.id)\n",
    "    \n",
    "    depth_to_image = {iseq.time: iseq.image for iseq in image_sequences}\n",
    "    height = ImageInstance().fetch(image_sequences[0].image).height\n",
    "    \n",
    "    collection = AnnotationCollection()\n",
    "    \n",
    "    groups = []\n",
    "    uniquekeys = []\n",
    "    for k, g in grouped:\n",
    "        groups.append(list(g))      # Store group iterator as a list\n",
    "        uniquekeys.append(k)\n",
    "    \n",
    "    for key, group in zip(uniquekeys, groups):\n",
    "        listOfPoints = []\n",
    "        for oSlice in group:\n",
    "            listOfPoints.append((oSlice.polygon.x, oSlice.polygon.y))\n",
    "        # shape = LineString(listOfPoints)    \n",
    "        shape = MultiPoint(listOfPoints)\n",
    "        for oSlice2 in group:\n",
    "            polygon = affine_transform(shape, [1, 0, 0, -1, 0, height])\n",
    "            annotation = Annotation(location=polygon.wkt, id_image=depth_to_image[oSlice2.time], id_project=cj.parameters.cytomine_id_project, property=[{\"key\": \"index\", \"value\": str(oSlice2.label)}])\n",
    "            collection.append(annotation)\n",
    "        \n",
    "    collection.save()\n",
    "    print(\"Found {} objects in this image {}.\".format(len(objects), image.id))\n",
    "    \n",
    "    "
   ]
  },
  {
   "cell_type": "markdown",
   "metadata": {},
   "source": [
    "#### Calculate and upload metrics"
   ]
  },
  {
   "cell_type": "code",
   "execution_count": 7,
   "metadata": {},
   "outputs": [
    {
     "name": "stdout",
     "output_type": "stream",
     "text": [
      "[2019-01-23 17:51:08,277][INFO] Job (id:5873138) status update: \"Computing and uploading metrics...\" (status: RUNNING, progress: 60%)\n",
      "[2019-01-23 17:51:08,396][INFO] [PUT] [job] 5873138 : None | 200 OK\n"
     ]
    },
    {
     "ename": "FileNotFoundError",
     "evalue": "[Errno 2] No such file or directory: '/home/baecker/5873138/tmp/intracks.xml.score.txt'",
     "output_type": "error",
     "traceback": [
      "\u001b[0;31m---------------------------------------------------------------------------\u001b[0m",
      "\u001b[0;31mFileNotFoundError\u001b[0m                         Traceback (most recent call last)",
      "\u001b[0;32m<ipython-input-7-a8715eb1cb05>\u001b[0m in \u001b[0;36m<module>\u001b[0;34m\u001b[0m\n\u001b[1;32m      9\u001b[0m ])\n\u001b[1;32m     10\u001b[0m \u001b[0;34m\u001b[0m\u001b[0m\n\u001b[0;32m---> 11\u001b[0;31m \u001b[0mresults\u001b[0m \u001b[0;34m=\u001b[0m \u001b[0mcomputemetrics_batch\u001b[0m\u001b[0;34m(\u001b[0m\u001b[0moutfiles\u001b[0m\u001b[0;34m,\u001b[0m \u001b[0mreffiles\u001b[0m\u001b[0;34m,\u001b[0m \u001b[0;34m\"PrtTrk\"\u001b[0m\u001b[0;34m,\u001b[0m \u001b[0mtmp_path\u001b[0m\u001b[0;34m)\u001b[0m\u001b[0;34m\u001b[0m\u001b[0m\n\u001b[0m\u001b[1;32m     12\u001b[0m \u001b[0;34m\u001b[0m\u001b[0m\n\u001b[1;32m     13\u001b[0m \u001b[0;32mfor\u001b[0m \u001b[0mkey\u001b[0m\u001b[0;34m,\u001b[0m \u001b[0mvalue\u001b[0m \u001b[0;32min\u001b[0m \u001b[0mresults\u001b[0m\u001b[0;34m.\u001b[0m\u001b[0mitems\u001b[0m\u001b[0;34m(\u001b[0m\u001b[0;34m)\u001b[0m\u001b[0;34m:\u001b[0m\u001b[0;34m\u001b[0m\u001b[0m\n",
      "\u001b[0;32m~/anaconda3/envs/biaflows/lib/python3.6/site-packages/neubiaswg5/metrics/compute_metrics.py\u001b[0m in \u001b[0;36mcomputemetrics_batch\u001b[0;34m(infiles, refiles, problemclass, tmpfolder, verbose, **extra_params)\u001b[0m\n\u001b[1;32m     49\u001b[0m     \u001b[0mresults\u001b[0m \u001b[0;34m=\u001b[0m \u001b[0mdict\u001b[0m\u001b[0;34m(\u001b[0m\u001b[0;34m)\u001b[0m\u001b[0;34m\u001b[0m\u001b[0m\n\u001b[1;32m     50\u001b[0m     \u001b[0;32mfor\u001b[0m \u001b[0minfile\u001b[0m\u001b[0;34m,\u001b[0m \u001b[0mreffile\u001b[0m \u001b[0;32min\u001b[0m \u001b[0mzip\u001b[0m\u001b[0;34m(\u001b[0m\u001b[0minfiles\u001b[0m\u001b[0;34m,\u001b[0m \u001b[0mrefiles\u001b[0m\u001b[0;34m)\u001b[0m\u001b[0;34m:\u001b[0m\u001b[0;34m\u001b[0m\u001b[0m\n\u001b[0;32m---> 51\u001b[0;31m         \u001b[0mmetrics\u001b[0m\u001b[0;34m,\u001b[0m \u001b[0mparams\u001b[0m \u001b[0;34m=\u001b[0m \u001b[0mcomputemetrics\u001b[0m\u001b[0;34m(\u001b[0m\u001b[0minfile\u001b[0m\u001b[0;34m,\u001b[0m \u001b[0mreffile\u001b[0m\u001b[0;34m,\u001b[0m \u001b[0mproblemclass\u001b[0m\u001b[0;34m,\u001b[0m \u001b[0mtmpfolder\u001b[0m\u001b[0;34m,\u001b[0m \u001b[0mverbose\u001b[0m\u001b[0;34m=\u001b[0m\u001b[0mverbose\u001b[0m\u001b[0;34m,\u001b[0m \u001b[0;34m**\u001b[0m\u001b[0mextra_params\u001b[0m\u001b[0;34m)\u001b[0m\u001b[0;34m\u001b[0m\u001b[0m\n\u001b[0m\u001b[1;32m     52\u001b[0m \u001b[0;34m\u001b[0m\u001b[0m\n\u001b[1;32m     53\u001b[0m         \u001b[0;32mdef\u001b[0m \u001b[0mextend_list_dict\u001b[0m\u001b[0;34m(\u001b[0m\u001b[0mall_dict\u001b[0m\u001b[0;34m,\u001b[0m \u001b[0mcurr_dict\u001b[0m\u001b[0;34m)\u001b[0m\u001b[0;34m:\u001b[0m\u001b[0;34m\u001b[0m\u001b[0m\n",
      "\u001b[0;32m~/anaconda3/envs/biaflows/lib/python3.6/site-packages/neubiaswg5/metrics/compute_metrics.py\u001b[0m in \u001b[0;36mcomputemetrics\u001b[0;34m(infile, reffile, problemclass, tmpfolder, verbose, **extra_params)\u001b[0m\n\u001b[1;32m     67\u001b[0m             \u001b[0;32mif\u001b[0m \u001b[0;32mnot\u001b[0m \u001b[0mverbose\u001b[0m\u001b[0;34m:\u001b[0m\u001b[0;34m\u001b[0m\u001b[0m\n\u001b[1;32m     68\u001b[0m                 \u001b[0msys\u001b[0m\u001b[0;34m.\u001b[0m\u001b[0mstderr\u001b[0m\u001b[0;34m,\u001b[0m \u001b[0msys\u001b[0m\u001b[0;34m.\u001b[0m\u001b[0mstdout\u001b[0m \u001b[0;34m=\u001b[0m \u001b[0mdevnull\u001b[0m\u001b[0;34m,\u001b[0m \u001b[0mdevnull\u001b[0m\u001b[0;34m\u001b[0m\u001b[0m\n\u001b[0;32m---> 69\u001b[0;31m             \u001b[0moutputs\u001b[0m \u001b[0;34m=\u001b[0m \u001b[0m_computemetrics\u001b[0m\u001b[0;34m(\u001b[0m\u001b[0minfile\u001b[0m\u001b[0;34m,\u001b[0m \u001b[0mreffile\u001b[0m\u001b[0;34m,\u001b[0m \u001b[0mproblemclass\u001b[0m\u001b[0;34m,\u001b[0m \u001b[0mtmpfolder\u001b[0m\u001b[0;34m,\u001b[0m \u001b[0;34m**\u001b[0m\u001b[0mextra_params\u001b[0m\u001b[0;34m)\u001b[0m\u001b[0;34m\u001b[0m\u001b[0m\n\u001b[0m\u001b[1;32m     70\u001b[0m     \u001b[0;32mfinally\u001b[0m\u001b[0;34m:\u001b[0m\u001b[0;34m\u001b[0m\u001b[0m\n\u001b[1;32m     71\u001b[0m         \u001b[0msys\u001b[0m\u001b[0;34m.\u001b[0m\u001b[0mstdout\u001b[0m \u001b[0;34m=\u001b[0m \u001b[0msys\u001b[0m\u001b[0;34m.\u001b[0m\u001b[0m__stdout__\u001b[0m\u001b[0;34m\u001b[0m\u001b[0m\n",
      "\u001b[0;32m~/anaconda3/envs/biaflows/lib/python3.6/site-packages/neubiaswg5/metrics/compute_metrics.py\u001b[0m in \u001b[0;36m_computemetrics\u001b[0;34m(infile, reffile, problemclass, tmpfolder, **extra_params)\u001b[0m\n\u001b[1;32m    259\u001b[0m \u001b[0;34m\u001b[0m\u001b[0m\n\u001b[1;32m    260\u001b[0m         \u001b[0;31m# Parse the output file created automatically in tmpfolder\u001b[0m\u001b[0;34m\u001b[0m\u001b[0;34m\u001b[0m\u001b[0m\n\u001b[0;32m--> 261\u001b[0;31m         \u001b[0;32mwith\u001b[0m \u001b[0mopen\u001b[0m\u001b[0;34m(\u001b[0m\u001b[0mres_fname\u001b[0m\u001b[0;34m,\u001b[0m \u001b[0;34m\"r\"\u001b[0m\u001b[0;34m)\u001b[0m \u001b[0;32mas\u001b[0m \u001b[0mf\u001b[0m\u001b[0;34m:\u001b[0m\u001b[0;34m\u001b[0m\u001b[0m\n\u001b[0m\u001b[1;32m    262\u001b[0m             \u001b[0mbchmetrics\u001b[0m \u001b[0;34m=\u001b[0m \u001b[0;34m[\u001b[0m\u001b[0mline\u001b[0m\u001b[0;34m.\u001b[0m\u001b[0msplit\u001b[0m\u001b[0;34m(\u001b[0m\u001b[0;34m':'\u001b[0m\u001b[0;34m)\u001b[0m\u001b[0;34m[\u001b[0m\u001b[0;36m0\u001b[0m\u001b[0;34m]\u001b[0m\u001b[0;34m.\u001b[0m\u001b[0mstrip\u001b[0m\u001b[0;34m(\u001b[0m\u001b[0;34m)\u001b[0m \u001b[0;32mfor\u001b[0m \u001b[0mline\u001b[0m \u001b[0;32min\u001b[0m \u001b[0mf\u001b[0m\u001b[0;34m.\u001b[0m\u001b[0mreadlines\u001b[0m\u001b[0;34m(\u001b[0m\u001b[0;34m)\u001b[0m\u001b[0;34m]\u001b[0m\u001b[0;34m\u001b[0m\u001b[0m\n\u001b[1;32m    263\u001b[0m \u001b[0;34m\u001b[0m\u001b[0m\n",
      "\u001b[0;31mFileNotFoundError\u001b[0m: [Errno 2] No such file or directory: '/home/baecker/5873138/tmp/intracks.xml.score.txt'"
     ]
    },
    {
     "name": "stdout",
     "output_type": "stream",
     "text": [
      "[2019-01-23 17:52:16,118][INFO] Job (id:5873138) status update: \"Finished.\" (status: SUCCESS/TERMINATED, progress: 80%)\n",
      "[2019-01-23 17:52:16,207][INFO] [PUT] [job] 5873138 : None | 200 OK\n"
     ]
    }
   ],
   "source": [
    "from neubiaswg5.metrics import computemetrics_batch\n",
    "from cytomine.models import Property\n",
    "\n",
    "cj.job.update(progress=80, statusComment=\"Computing and uploading metrics...\")\n",
    "outfiles, reffiles = zip(*[\n",
    "    (os.path.join(out_path, \"{}.tif\".format(image.id)),\n",
    "     os.path.join(gt_path, \"{}.tif\".format(image.id)))\n",
    "    for image in input_images\n",
    "])\n",
    "\n",
    "results = computemetrics_batch(outfiles, reffiles, \"PrtTrk\", tmp_path)\n",
    "\n",
    "for key, value in results.items():\n",
    "    Property(cj.job, key=key, value=str(value)).save()\n",
    "Property(cj.job, key=\"IMAGE_INSTANCES\", value=str([im.id for im in input_images])).save()"
   ]
  },
  {
   "cell_type": "markdown",
   "metadata": {},
   "source": [
    "#### Cleanup - remove the files and folders that have been downloaded or created."
   ]
  },
  {
   "cell_type": "code",
   "execution_count": null,
   "metadata": {},
   "outputs": [],
   "source": [
    "for image in input_images:\n",
    "    file = str(image.id)\n",
    "    path = out_path + \"/\" + file + \".tif\"\n",
    "    os.remove(path);\n",
    "    path = in_path + \"/\" + file  + \".tif\"\n",
    "    os.remove(path);\n",
    "    path = gt_path + \"/\" + file  + \".tif\"\n",
    "    os.remove(path);\n",
    "    \n",
    "tmpData = ['intracks.xml', 'intracks.xml.score.txt', 'reftracks.xml']\n",
    "for file in tmpData:\n",
    "    path = tmp_path + \"/\" + file\n",
    "    os.remove(path);\n",
    "if os.path.exists(working_path):\n",
    "    os.rmdir(in_path)\n",
    "    os.rmdir(out_path)\n",
    "    os.rmdir(gt_path)\n",
    "    os.rmdir(tmp_path)\n",
    "    os.rmdir(working_path)"
   ]
  },
  {
   "cell_type": "markdown",
   "metadata": {},
   "source": [
    "#### End the job and the connection to cytomine"
   ]
  },
  {
   "cell_type": "code",
   "execution_count": 8,
   "metadata": {},
   "outputs": [],
   "source": [
    "cj.job.update(status=Job.TERMINATED, progress=100, statusComment=\"Finished.\")\n",
    "print(\"END.\")"
   ]
  }
 ],
 "metadata": {
  "celltoolbar": "Initialization Cell",
  "kernelspec": {
   "display_name": "Python 3",
   "language": "python",
   "name": "python3"
  },
  "language_info": {
   "codemirror_mode": {
    "name": "ipython",
    "version": 3
   },
   "file_extension": ".py",
   "mimetype": "text/x-python",
   "name": "python",
   "nbconvert_exporter": "python",
   "pygments_lexer": "ipython3",
   "version": "3.6.6"
  },
  "toc": {
   "base_numbering": 1,
   "nav_menu": {},
   "number_sections": false,
   "sideBar": false,
   "skip_h1_title": false,
   "title_cell": "Table of Contents",
   "title_sidebar": "Contents",
   "toc_cell": false,
   "toc_position": {},
   "toc_section_display": false,
   "toc_window_display": false
  }
 },
 "nbformat": 4,
 "nbformat_minor": 2
}
